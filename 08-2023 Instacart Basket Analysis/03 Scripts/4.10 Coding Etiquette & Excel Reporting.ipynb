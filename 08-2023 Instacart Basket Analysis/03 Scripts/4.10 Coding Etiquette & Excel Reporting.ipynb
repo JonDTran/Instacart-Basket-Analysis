{
 "cells": [
  {
   "cell_type": "markdown",
   "id": "f67b2053",
   "metadata": {},
   "source": [
    "## TOC:\n",
    "\n",
    "*[01. Importing libraries]\n",
    "\n",
    "*[02. Importing data]\n",
    "\n",
    "*[03. Task]\n",
    "\n",
    "*[04. Identifying PII (Personally Identifiable Information)]\n",
    "\n",
    "*[05. Creating Customer Profiles]\n",
    "\n",
    "*[06. Creating visualizations]"
   ]
  },
  {
   "cell_type": "markdown",
   "id": "e57b543b",
   "metadata": {},
   "source": [
    "# 01. Importing Libraries"
   ]
  },
  {
   "cell_type": "code",
   "execution_count": 1,
   "id": "885adaa9",
   "metadata": {},
   "outputs": [],
   "source": [
    "import pandas as pd\n",
    "import numpy as np\n",
    "import os\n",
    "import matplotlib.pyplot as plt\n",
    "import seaborn as sns\n",
    "import scipy"
   ]
  },
  {
   "cell_type": "markdown",
   "id": "07461689",
   "metadata": {},
   "source": [
    "# 02. Importing data"
   ]
  },
  {
   "cell_type": "code",
   "execution_count": 2,
   "id": "b4b4a6b0",
   "metadata": {},
   "outputs": [],
   "source": [
    "#defining path\n",
    "\n",
    "path = r'C:\\Users\\Jonathan\\08-2023 Instacart Basket Analysis'"
   ]
  },
  {
   "cell_type": "code",
   "execution_count": 3,
   "id": "ed627cfe",
   "metadata": {},
   "outputs": [],
   "source": [
    "#importing dataset\n",
    "\n",
    "df_instacart = pd.read_pickle(os.path.join(path, '02 Data', 'Prepared Data', 'Total Combined Data.pkl'))"
   ]
  },
  {
   "cell_type": "markdown",
   "id": "8f0a7a2d",
   "metadata": {},
   "source": [
    "# 03. Task"
   ]
  },
  {
   "cell_type": "markdown",
   "id": "2a589336",
   "metadata": {},
   "source": [
    "# 04. Identifying PII (Personally Identifiable Information)"
   ]
  },
  {
   "cell_type": "code",
   "execution_count": 4,
   "id": "af274156",
   "metadata": {},
   "outputs": [],
   "source": [
    "#expanding view of columns\n",
    "\n",
    "pd.options.display.max_columns = None"
   ]
  },
  {
   "cell_type": "code",
   "execution_count": 5,
   "id": "bb4b079c",
   "metadata": {},
   "outputs": [
    {
     "data": {
      "text/html": [
       "<div>\n",
       "<style scoped>\n",
       "    .dataframe tbody tr th:only-of-type {\n",
       "        vertical-align: middle;\n",
       "    }\n",
       "\n",
       "    .dataframe tbody tr th {\n",
       "        vertical-align: top;\n",
       "    }\n",
       "\n",
       "    .dataframe thead th {\n",
       "        text-align: right;\n",
       "    }\n",
       "</style>\n",
       "<table border=\"1\" class=\"dataframe\">\n",
       "  <thead>\n",
       "    <tr style=\"text-align: right;\">\n",
       "      <th></th>\n",
       "      <th>order_id</th>\n",
       "      <th>user_id</th>\n",
       "      <th>order_number</th>\n",
       "      <th>order_day_of_week</th>\n",
       "      <th>order_hour_of_day</th>\n",
       "      <th>days_since_last_order</th>\n",
       "      <th>product_id</th>\n",
       "      <th>add_to_cart_order</th>\n",
       "      <th>reordered</th>\n",
       "      <th>product_name</th>\n",
       "      <th>aisle_id</th>\n",
       "      <th>department_id</th>\n",
       "      <th>prices</th>\n",
       "      <th>price_range_loc</th>\n",
       "      <th>busiest day</th>\n",
       "      <th>busiest days</th>\n",
       "      <th>busiest_period_of_day</th>\n",
       "      <th>max_order</th>\n",
       "      <th>loyalty_flag</th>\n",
       "      <th>avg_prod_price</th>\n",
       "      <th>spender_type</th>\n",
       "      <th>frequency</th>\n",
       "      <th>frequency_type</th>\n",
       "      <th>First Name</th>\n",
       "      <th>Last Name</th>\n",
       "      <th>Gender</th>\n",
       "      <th>STATE</th>\n",
       "      <th>Age</th>\n",
       "      <th>date_joined</th>\n",
       "      <th>dependants</th>\n",
       "      <th>fam_status</th>\n",
       "      <th>income</th>\n",
       "      <th>_merge</th>\n",
       "    </tr>\n",
       "  </thead>\n",
       "  <tbody>\n",
       "    <tr>\n",
       "      <th>0</th>\n",
       "      <td>2539329</td>\n",
       "      <td>1</td>\n",
       "      <td>1</td>\n",
       "      <td>2</td>\n",
       "      <td>8</td>\n",
       "      <td>NaN</td>\n",
       "      <td>196</td>\n",
       "      <td>1</td>\n",
       "      <td>0</td>\n",
       "      <td>Soda</td>\n",
       "      <td>77</td>\n",
       "      <td>7</td>\n",
       "      <td>9.0</td>\n",
       "      <td>Mid-range product</td>\n",
       "      <td>Regular busy</td>\n",
       "      <td>Regular busy</td>\n",
       "      <td>Average orders</td>\n",
       "      <td>10</td>\n",
       "      <td>New customer</td>\n",
       "      <td>6.367797</td>\n",
       "      <td>Low spender</td>\n",
       "      <td>20.5</td>\n",
       "      <td>Non-frequent customer</td>\n",
       "      <td>Linda</td>\n",
       "      <td>Nguyen</td>\n",
       "      <td>Female</td>\n",
       "      <td>Alabama</td>\n",
       "      <td>31</td>\n",
       "      <td>2/17/2019</td>\n",
       "      <td>3</td>\n",
       "      <td>married</td>\n",
       "      <td>40423</td>\n",
       "      <td>both</td>\n",
       "    </tr>\n",
       "    <tr>\n",
       "      <th>1</th>\n",
       "      <td>2398795</td>\n",
       "      <td>1</td>\n",
       "      <td>2</td>\n",
       "      <td>3</td>\n",
       "      <td>7</td>\n",
       "      <td>15.0</td>\n",
       "      <td>196</td>\n",
       "      <td>1</td>\n",
       "      <td>1</td>\n",
       "      <td>Soda</td>\n",
       "      <td>77</td>\n",
       "      <td>7</td>\n",
       "      <td>9.0</td>\n",
       "      <td>Mid-range product</td>\n",
       "      <td>Regular busy</td>\n",
       "      <td>Least busy days</td>\n",
       "      <td>Average orders</td>\n",
       "      <td>10</td>\n",
       "      <td>New customer</td>\n",
       "      <td>6.367797</td>\n",
       "      <td>Low spender</td>\n",
       "      <td>20.5</td>\n",
       "      <td>Non-frequent customer</td>\n",
       "      <td>Linda</td>\n",
       "      <td>Nguyen</td>\n",
       "      <td>Female</td>\n",
       "      <td>Alabama</td>\n",
       "      <td>31</td>\n",
       "      <td>2/17/2019</td>\n",
       "      <td>3</td>\n",
       "      <td>married</td>\n",
       "      <td>40423</td>\n",
       "      <td>both</td>\n",
       "    </tr>\n",
       "    <tr>\n",
       "      <th>2</th>\n",
       "      <td>473747</td>\n",
       "      <td>1</td>\n",
       "      <td>3</td>\n",
       "      <td>3</td>\n",
       "      <td>12</td>\n",
       "      <td>21.0</td>\n",
       "      <td>196</td>\n",
       "      <td>1</td>\n",
       "      <td>1</td>\n",
       "      <td>Soda</td>\n",
       "      <td>77</td>\n",
       "      <td>7</td>\n",
       "      <td>9.0</td>\n",
       "      <td>Mid-range product</td>\n",
       "      <td>Regular busy</td>\n",
       "      <td>Least busy days</td>\n",
       "      <td>Most orders</td>\n",
       "      <td>10</td>\n",
       "      <td>New customer</td>\n",
       "      <td>6.367797</td>\n",
       "      <td>Low spender</td>\n",
       "      <td>20.5</td>\n",
       "      <td>Non-frequent customer</td>\n",
       "      <td>Linda</td>\n",
       "      <td>Nguyen</td>\n",
       "      <td>Female</td>\n",
       "      <td>Alabama</td>\n",
       "      <td>31</td>\n",
       "      <td>2/17/2019</td>\n",
       "      <td>3</td>\n",
       "      <td>married</td>\n",
       "      <td>40423</td>\n",
       "      <td>both</td>\n",
       "    </tr>\n",
       "    <tr>\n",
       "      <th>3</th>\n",
       "      <td>2254736</td>\n",
       "      <td>1</td>\n",
       "      <td>4</td>\n",
       "      <td>4</td>\n",
       "      <td>7</td>\n",
       "      <td>29.0</td>\n",
       "      <td>196</td>\n",
       "      <td>1</td>\n",
       "      <td>1</td>\n",
       "      <td>Soda</td>\n",
       "      <td>77</td>\n",
       "      <td>7</td>\n",
       "      <td>9.0</td>\n",
       "      <td>Mid-range product</td>\n",
       "      <td>Least busy</td>\n",
       "      <td>Least busy days</td>\n",
       "      <td>Average orders</td>\n",
       "      <td>10</td>\n",
       "      <td>New customer</td>\n",
       "      <td>6.367797</td>\n",
       "      <td>Low spender</td>\n",
       "      <td>20.5</td>\n",
       "      <td>Non-frequent customer</td>\n",
       "      <td>Linda</td>\n",
       "      <td>Nguyen</td>\n",
       "      <td>Female</td>\n",
       "      <td>Alabama</td>\n",
       "      <td>31</td>\n",
       "      <td>2/17/2019</td>\n",
       "      <td>3</td>\n",
       "      <td>married</td>\n",
       "      <td>40423</td>\n",
       "      <td>both</td>\n",
       "    </tr>\n",
       "    <tr>\n",
       "      <th>4</th>\n",
       "      <td>431534</td>\n",
       "      <td>1</td>\n",
       "      <td>5</td>\n",
       "      <td>4</td>\n",
       "      <td>15</td>\n",
       "      <td>28.0</td>\n",
       "      <td>196</td>\n",
       "      <td>1</td>\n",
       "      <td>1</td>\n",
       "      <td>Soda</td>\n",
       "      <td>77</td>\n",
       "      <td>7</td>\n",
       "      <td>9.0</td>\n",
       "      <td>Mid-range product</td>\n",
       "      <td>Least busy</td>\n",
       "      <td>Least busy days</td>\n",
       "      <td>Most orders</td>\n",
       "      <td>10</td>\n",
       "      <td>New customer</td>\n",
       "      <td>6.367797</td>\n",
       "      <td>Low spender</td>\n",
       "      <td>20.5</td>\n",
       "      <td>Non-frequent customer</td>\n",
       "      <td>Linda</td>\n",
       "      <td>Nguyen</td>\n",
       "      <td>Female</td>\n",
       "      <td>Alabama</td>\n",
       "      <td>31</td>\n",
       "      <td>2/17/2019</td>\n",
       "      <td>3</td>\n",
       "      <td>married</td>\n",
       "      <td>40423</td>\n",
       "      <td>both</td>\n",
       "    </tr>\n",
       "  </tbody>\n",
       "</table>\n",
       "</div>"
      ],
      "text/plain": [
       "   order_id  user_id  order_number  order_day_of_week  order_hour_of_day  \\\n",
       "0   2539329        1             1                  2                  8   \n",
       "1   2398795        1             2                  3                  7   \n",
       "2    473747        1             3                  3                 12   \n",
       "3   2254736        1             4                  4                  7   \n",
       "4    431534        1             5                  4                 15   \n",
       "\n",
       "   days_since_last_order  product_id  add_to_cart_order  reordered  \\\n",
       "0                    NaN         196                  1          0   \n",
       "1                   15.0         196                  1          1   \n",
       "2                   21.0         196                  1          1   \n",
       "3                   29.0         196                  1          1   \n",
       "4                   28.0         196                  1          1   \n",
       "\n",
       "  product_name  aisle_id  department_id  prices    price_range_loc  \\\n",
       "0         Soda        77              7     9.0  Mid-range product   \n",
       "1         Soda        77              7     9.0  Mid-range product   \n",
       "2         Soda        77              7     9.0  Mid-range product   \n",
       "3         Soda        77              7     9.0  Mid-range product   \n",
       "4         Soda        77              7     9.0  Mid-range product   \n",
       "\n",
       "    busiest day     busiest days busiest_period_of_day  max_order  \\\n",
       "0  Regular busy     Regular busy        Average orders         10   \n",
       "1  Regular busy  Least busy days        Average orders         10   \n",
       "2  Regular busy  Least busy days           Most orders         10   \n",
       "3    Least busy  Least busy days        Average orders         10   \n",
       "4    Least busy  Least busy days           Most orders         10   \n",
       "\n",
       "   loyalty_flag  avg_prod_price spender_type  frequency  \\\n",
       "0  New customer        6.367797  Low spender       20.5   \n",
       "1  New customer        6.367797  Low spender       20.5   \n",
       "2  New customer        6.367797  Low spender       20.5   \n",
       "3  New customer        6.367797  Low spender       20.5   \n",
       "4  New customer        6.367797  Low spender       20.5   \n",
       "\n",
       "          frequency_type First Name Last Name  Gender    STATE  Age  \\\n",
       "0  Non-frequent customer      Linda    Nguyen  Female  Alabama   31   \n",
       "1  Non-frequent customer      Linda    Nguyen  Female  Alabama   31   \n",
       "2  Non-frequent customer      Linda    Nguyen  Female  Alabama   31   \n",
       "3  Non-frequent customer      Linda    Nguyen  Female  Alabama   31   \n",
       "4  Non-frequent customer      Linda    Nguyen  Female  Alabama   31   \n",
       "\n",
       "  date_joined  dependants fam_status  income _merge  \n",
       "0   2/17/2019           3    married   40423   both  \n",
       "1   2/17/2019           3    married   40423   both  \n",
       "2   2/17/2019           3    married   40423   both  \n",
       "3   2/17/2019           3    married   40423   both  \n",
       "4   2/17/2019           3    married   40423   both  "
      ]
     },
     "execution_count": 5,
     "metadata": {},
     "output_type": "execute_result"
    }
   ],
   "source": [
    "#Checking Dataframe for PII\n",
    "\n",
    "df_instacart.head(5)"
   ]
  },
  {
   "cell_type": "markdown",
   "id": "9147ac9e",
   "metadata": {},
   "source": [
    "First Name and Last Name are PII and should be removed from the dataframe; \n",
    "\n",
    "I will also be removing busiest day column as it can be considered duplicate information (similar to busiest days column) and unnecessary;"
   ]
  },
  {
   "cell_type": "code",
   "execution_count": 6,
   "id": "3796fd70",
   "metadata": {},
   "outputs": [],
   "source": [
    "#creating a dataframe with those PII columns (as well as unnecessary data) removed; \n",
    "\n",
    "df_instacart_PII_clean = df_instacart.drop(['busiest day', 'First Name', 'Last Name'], axis = 1)"
   ]
  },
  {
   "cell_type": "code",
   "execution_count": 7,
   "id": "3f4ee9f6",
   "metadata": {
    "scrolled": true
   },
   "outputs": [
    {
     "data": {
      "text/html": [
       "<div>\n",
       "<style scoped>\n",
       "    .dataframe tbody tr th:only-of-type {\n",
       "        vertical-align: middle;\n",
       "    }\n",
       "\n",
       "    .dataframe tbody tr th {\n",
       "        vertical-align: top;\n",
       "    }\n",
       "\n",
       "    .dataframe thead th {\n",
       "        text-align: right;\n",
       "    }\n",
       "</style>\n",
       "<table border=\"1\" class=\"dataframe\">\n",
       "  <thead>\n",
       "    <tr style=\"text-align: right;\">\n",
       "      <th></th>\n",
       "      <th>order_id</th>\n",
       "      <th>user_id</th>\n",
       "      <th>order_number</th>\n",
       "      <th>order_day_of_week</th>\n",
       "      <th>order_hour_of_day</th>\n",
       "      <th>days_since_last_order</th>\n",
       "      <th>product_id</th>\n",
       "      <th>add_to_cart_order</th>\n",
       "      <th>reordered</th>\n",
       "      <th>product_name</th>\n",
       "      <th>aisle_id</th>\n",
       "      <th>department_id</th>\n",
       "      <th>prices</th>\n",
       "      <th>price_range_loc</th>\n",
       "      <th>busiest days</th>\n",
       "      <th>busiest_period_of_day</th>\n",
       "      <th>max_order</th>\n",
       "      <th>loyalty_flag</th>\n",
       "      <th>avg_prod_price</th>\n",
       "      <th>spender_type</th>\n",
       "      <th>frequency</th>\n",
       "      <th>frequency_type</th>\n",
       "      <th>Gender</th>\n",
       "      <th>STATE</th>\n",
       "      <th>Age</th>\n",
       "      <th>date_joined</th>\n",
       "      <th>dependants</th>\n",
       "      <th>fam_status</th>\n",
       "      <th>income</th>\n",
       "      <th>_merge</th>\n",
       "    </tr>\n",
       "  </thead>\n",
       "  <tbody>\n",
       "    <tr>\n",
       "      <th>0</th>\n",
       "      <td>2539329</td>\n",
       "      <td>1</td>\n",
       "      <td>1</td>\n",
       "      <td>2</td>\n",
       "      <td>8</td>\n",
       "      <td>NaN</td>\n",
       "      <td>196</td>\n",
       "      <td>1</td>\n",
       "      <td>0</td>\n",
       "      <td>Soda</td>\n",
       "      <td>77</td>\n",
       "      <td>7</td>\n",
       "      <td>9.0</td>\n",
       "      <td>Mid-range product</td>\n",
       "      <td>Regular busy</td>\n",
       "      <td>Average orders</td>\n",
       "      <td>10</td>\n",
       "      <td>New customer</td>\n",
       "      <td>6.367797</td>\n",
       "      <td>Low spender</td>\n",
       "      <td>20.5</td>\n",
       "      <td>Non-frequent customer</td>\n",
       "      <td>Female</td>\n",
       "      <td>Alabama</td>\n",
       "      <td>31</td>\n",
       "      <td>2/17/2019</td>\n",
       "      <td>3</td>\n",
       "      <td>married</td>\n",
       "      <td>40423</td>\n",
       "      <td>both</td>\n",
       "    </tr>\n",
       "    <tr>\n",
       "      <th>1</th>\n",
       "      <td>2398795</td>\n",
       "      <td>1</td>\n",
       "      <td>2</td>\n",
       "      <td>3</td>\n",
       "      <td>7</td>\n",
       "      <td>15.0</td>\n",
       "      <td>196</td>\n",
       "      <td>1</td>\n",
       "      <td>1</td>\n",
       "      <td>Soda</td>\n",
       "      <td>77</td>\n",
       "      <td>7</td>\n",
       "      <td>9.0</td>\n",
       "      <td>Mid-range product</td>\n",
       "      <td>Least busy days</td>\n",
       "      <td>Average orders</td>\n",
       "      <td>10</td>\n",
       "      <td>New customer</td>\n",
       "      <td>6.367797</td>\n",
       "      <td>Low spender</td>\n",
       "      <td>20.5</td>\n",
       "      <td>Non-frequent customer</td>\n",
       "      <td>Female</td>\n",
       "      <td>Alabama</td>\n",
       "      <td>31</td>\n",
       "      <td>2/17/2019</td>\n",
       "      <td>3</td>\n",
       "      <td>married</td>\n",
       "      <td>40423</td>\n",
       "      <td>both</td>\n",
       "    </tr>\n",
       "    <tr>\n",
       "      <th>2</th>\n",
       "      <td>473747</td>\n",
       "      <td>1</td>\n",
       "      <td>3</td>\n",
       "      <td>3</td>\n",
       "      <td>12</td>\n",
       "      <td>21.0</td>\n",
       "      <td>196</td>\n",
       "      <td>1</td>\n",
       "      <td>1</td>\n",
       "      <td>Soda</td>\n",
       "      <td>77</td>\n",
       "      <td>7</td>\n",
       "      <td>9.0</td>\n",
       "      <td>Mid-range product</td>\n",
       "      <td>Least busy days</td>\n",
       "      <td>Most orders</td>\n",
       "      <td>10</td>\n",
       "      <td>New customer</td>\n",
       "      <td>6.367797</td>\n",
       "      <td>Low spender</td>\n",
       "      <td>20.5</td>\n",
       "      <td>Non-frequent customer</td>\n",
       "      <td>Female</td>\n",
       "      <td>Alabama</td>\n",
       "      <td>31</td>\n",
       "      <td>2/17/2019</td>\n",
       "      <td>3</td>\n",
       "      <td>married</td>\n",
       "      <td>40423</td>\n",
       "      <td>both</td>\n",
       "    </tr>\n",
       "    <tr>\n",
       "      <th>3</th>\n",
       "      <td>2254736</td>\n",
       "      <td>1</td>\n",
       "      <td>4</td>\n",
       "      <td>4</td>\n",
       "      <td>7</td>\n",
       "      <td>29.0</td>\n",
       "      <td>196</td>\n",
       "      <td>1</td>\n",
       "      <td>1</td>\n",
       "      <td>Soda</td>\n",
       "      <td>77</td>\n",
       "      <td>7</td>\n",
       "      <td>9.0</td>\n",
       "      <td>Mid-range product</td>\n",
       "      <td>Least busy days</td>\n",
       "      <td>Average orders</td>\n",
       "      <td>10</td>\n",
       "      <td>New customer</td>\n",
       "      <td>6.367797</td>\n",
       "      <td>Low spender</td>\n",
       "      <td>20.5</td>\n",
       "      <td>Non-frequent customer</td>\n",
       "      <td>Female</td>\n",
       "      <td>Alabama</td>\n",
       "      <td>31</td>\n",
       "      <td>2/17/2019</td>\n",
       "      <td>3</td>\n",
       "      <td>married</td>\n",
       "      <td>40423</td>\n",
       "      <td>both</td>\n",
       "    </tr>\n",
       "    <tr>\n",
       "      <th>4</th>\n",
       "      <td>431534</td>\n",
       "      <td>1</td>\n",
       "      <td>5</td>\n",
       "      <td>4</td>\n",
       "      <td>15</td>\n",
       "      <td>28.0</td>\n",
       "      <td>196</td>\n",
       "      <td>1</td>\n",
       "      <td>1</td>\n",
       "      <td>Soda</td>\n",
       "      <td>77</td>\n",
       "      <td>7</td>\n",
       "      <td>9.0</td>\n",
       "      <td>Mid-range product</td>\n",
       "      <td>Least busy days</td>\n",
       "      <td>Most orders</td>\n",
       "      <td>10</td>\n",
       "      <td>New customer</td>\n",
       "      <td>6.367797</td>\n",
       "      <td>Low spender</td>\n",
       "      <td>20.5</td>\n",
       "      <td>Non-frequent customer</td>\n",
       "      <td>Female</td>\n",
       "      <td>Alabama</td>\n",
       "      <td>31</td>\n",
       "      <td>2/17/2019</td>\n",
       "      <td>3</td>\n",
       "      <td>married</td>\n",
       "      <td>40423</td>\n",
       "      <td>both</td>\n",
       "    </tr>\n",
       "  </tbody>\n",
       "</table>\n",
       "</div>"
      ],
      "text/plain": [
       "   order_id  user_id  order_number  order_day_of_week  order_hour_of_day  \\\n",
       "0   2539329        1             1                  2                  8   \n",
       "1   2398795        1             2                  3                  7   \n",
       "2    473747        1             3                  3                 12   \n",
       "3   2254736        1             4                  4                  7   \n",
       "4    431534        1             5                  4                 15   \n",
       "\n",
       "   days_since_last_order  product_id  add_to_cart_order  reordered  \\\n",
       "0                    NaN         196                  1          0   \n",
       "1                   15.0         196                  1          1   \n",
       "2                   21.0         196                  1          1   \n",
       "3                   29.0         196                  1          1   \n",
       "4                   28.0         196                  1          1   \n",
       "\n",
       "  product_name  aisle_id  department_id  prices    price_range_loc  \\\n",
       "0         Soda        77              7     9.0  Mid-range product   \n",
       "1         Soda        77              7     9.0  Mid-range product   \n",
       "2         Soda        77              7     9.0  Mid-range product   \n",
       "3         Soda        77              7     9.0  Mid-range product   \n",
       "4         Soda        77              7     9.0  Mid-range product   \n",
       "\n",
       "      busiest days busiest_period_of_day  max_order  loyalty_flag  \\\n",
       "0     Regular busy        Average orders         10  New customer   \n",
       "1  Least busy days        Average orders         10  New customer   \n",
       "2  Least busy days           Most orders         10  New customer   \n",
       "3  Least busy days        Average orders         10  New customer   \n",
       "4  Least busy days           Most orders         10  New customer   \n",
       "\n",
       "   avg_prod_price spender_type  frequency         frequency_type  Gender  \\\n",
       "0        6.367797  Low spender       20.5  Non-frequent customer  Female   \n",
       "1        6.367797  Low spender       20.5  Non-frequent customer  Female   \n",
       "2        6.367797  Low spender       20.5  Non-frequent customer  Female   \n",
       "3        6.367797  Low spender       20.5  Non-frequent customer  Female   \n",
       "4        6.367797  Low spender       20.5  Non-frequent customer  Female   \n",
       "\n",
       "     STATE  Age date_joined  dependants fam_status  income _merge  \n",
       "0  Alabama   31   2/17/2019           3    married   40423   both  \n",
       "1  Alabama   31   2/17/2019           3    married   40423   both  \n",
       "2  Alabama   31   2/17/2019           3    married   40423   both  \n",
       "3  Alabama   31   2/17/2019           3    married   40423   both  \n",
       "4  Alabama   31   2/17/2019           3    married   40423   both  "
      ]
     },
     "execution_count": 7,
     "metadata": {},
     "output_type": "execute_result"
    }
   ],
   "source": [
    "df_instacart_PII_clean.head()"
   ]
  },
  {
   "cell_type": "markdown",
   "id": "72d4ba21",
   "metadata": {},
   "source": [
    "# 05. Creating Customer Profiles"
   ]
  },
  {
   "cell_type": "markdown",
   "id": "c434054d",
   "metadata": {},
   "source": [
    "Defining and creating \"Region\" column to analyze spending habits based on U.S. Regions"
   ]
  },
  {
   "cell_type": "code",
   "execution_count": 8,
   "id": "82452a4c",
   "metadata": {},
   "outputs": [
    {
     "data": {
      "text/plain": [
       "California              630308\n",
       "Pennsylvania            629833\n",
       "Rhode Island            621341\n",
       "Georgia                 620618\n",
       "Arizona                 619810\n",
       "North Carolina          618268\n",
       "Oklahoma                615354\n",
       "Minnesota               613699\n",
       "New Mexico              611481\n",
       "Maine                   610309\n",
       "Alaska                  610279\n",
       "Wyoming                 609764\n",
       "Massachusetts           608964\n",
       "Arkansas                608035\n",
       "Mississippi             607362\n",
       "Texas                   605608\n",
       "North Dakota            605317\n",
       "Nevada                  605083\n",
       "Missouri                604383\n",
       "Virginia                603563\n",
       "South Dakota            602744\n",
       "Kansas                  602396\n",
       "Louisiana               602384\n",
       "Alabama                 602310\n",
       "South Carolina          602049\n",
       "New York                601409\n",
       "Washington              601352\n",
       "Montana                 600639\n",
       "Michigan                600593\n",
       "Kentucky                600323\n",
       "Colorado                599764\n",
       "Oregon                  599340\n",
       "Delaware                598973\n",
       "Indiana                 595942\n",
       "Hawaii                  593851\n",
       "Ohio                    593507\n",
       "Connecticut             593375\n",
       "Illinois                591762\n",
       "Iowa                    591579\n",
       "New Jersey              591386\n",
       "Maryland                589991\n",
       "Florida                 589376\n",
       "Nebraska                589136\n",
       "Wisconsin               585866\n",
       "New Hampshire           585187\n",
       "Tennessee               581885\n",
       "Vermont                 580221\n",
       "West Virginia           578118\n",
       "Utah                    577919\n",
       "District of Columbia    574765\n",
       "Idaho                   572220\n",
       "Name: STATE, dtype: int64"
      ]
     },
     "execution_count": 8,
     "metadata": {},
     "output_type": "execute_result"
    }
   ],
   "source": [
    "#checking value counts for STATE column\n",
    "\n",
    "df_instacart_PII_clean['STATE'].value_counts()"
   ]
  },
  {
   "cell_type": "code",
   "execution_count": 9,
   "id": "21fb46a1",
   "metadata": {},
   "outputs": [],
   "source": [
    "#For-Loop If statement for Region\n",
    "\n",
    "result = []\n",
    "\n",
    "for value in df_instacart_PII_clean['STATE']:\n",
    "    if value in ['Maine', 'New Hampshire', 'Vermont', 'Massachusetts', 'Rhode Island', 'Connecticut', 'New York', 'Pennsylvania', 'New Jersey']:\n",
    "        result.append(\"Northeast\")\n",
    "    elif value in ['Wisconsin', 'Michigan', 'Illinois', 'Indiana', 'Ohio', 'North Dakota', 'South Dakota', 'Nebraska', 'Kansas', 'Minnesota', 'Iowa', 'Missouri']:\n",
    "        result.append(\"Midwest\")\n",
    "    elif value in ['Delaware', 'Maryland', 'District of Columbia', 'Virginia', 'West Virginia', 'North Carolina', 'South Carolina', 'Georgia', 'Florida', 'Kentucky', 'Tennessee', 'Mississippi', 'Alabama', 'Oklahoma', 'Texas', 'Arkansas', 'Louisiana']:\n",
    "        result.append(\"South\")\n",
    "    elif value in ['Idaho', 'Montana', 'Wyoming', 'Nevada', 'Utah', 'Colorado', 'Arizona', 'New Mexico', 'Alaska', 'Washington', 'Oregon', 'California', 'Hawaii']:\n",
    "        result.append(\"West\")\n",
    "    else:\n",
    "        result.append(\"NaN\")"
   ]
  },
  {
   "cell_type": "code",
   "execution_count": 10,
   "id": "37dfd706",
   "metadata": {},
   "outputs": [],
   "source": [
    "#creating new column for Region\n",
    "\n",
    "df_instacart_PII_clean['Region'] = result"
   ]
  },
  {
   "cell_type": "code",
   "execution_count": 11,
   "id": "f301c702",
   "metadata": {},
   "outputs": [
    {
     "data": {
      "text/plain": [
       "South        10198982\n",
       "West          7831810\n",
       "Midwest       7176924\n",
       "Northeast     5422025\n",
       "Name: Region, dtype: int64"
      ]
     },
     "execution_count": 11,
     "metadata": {},
     "output_type": "execute_result"
    }
   ],
   "source": [
    "df_instacart_PII_clean['Region'].value_counts(dropna = False)"
   ]
  },
  {
   "cell_type": "code",
   "execution_count": 12,
   "id": "3ffbdd92",
   "metadata": {},
   "outputs": [],
   "source": [
    "#creating a crosstab to compare Region to Spender_type\n",
    "\n",
    "crosstab = pd.crosstab(df_instacart_PII_clean['Region'], df_instacart_PII_clean['spender_type'], dropna = False)"
   ]
  },
  {
   "cell_type": "code",
   "execution_count": 13,
   "id": "387584f6",
   "metadata": {},
   "outputs": [
    {
     "data": {
      "text/html": [
       "<div>\n",
       "<style scoped>\n",
       "    .dataframe tbody tr th:only-of-type {\n",
       "        vertical-align: middle;\n",
       "    }\n",
       "\n",
       "    .dataframe tbody tr th {\n",
       "        vertical-align: top;\n",
       "    }\n",
       "\n",
       "    .dataframe thead th {\n",
       "        text-align: right;\n",
       "    }\n",
       "</style>\n",
       "<table border=\"1\" class=\"dataframe\">\n",
       "  <thead>\n",
       "    <tr style=\"text-align: right;\">\n",
       "      <th>spender_type</th>\n",
       "      <th>High spender</th>\n",
       "      <th>Low spender</th>\n",
       "    </tr>\n",
       "    <tr>\n",
       "      <th>Region</th>\n",
       "      <th></th>\n",
       "      <th></th>\n",
       "    </tr>\n",
       "  </thead>\n",
       "  <tbody>\n",
       "    <tr>\n",
       "      <th>Midwest</th>\n",
       "      <td>149817</td>\n",
       "      <td>7027107</td>\n",
       "    </tr>\n",
       "    <tr>\n",
       "      <th>Northeast</th>\n",
       "      <td>101420</td>\n",
       "      <td>5320605</td>\n",
       "    </tr>\n",
       "    <tr>\n",
       "      <th>South</th>\n",
       "      <td>196523</td>\n",
       "      <td>10002459</td>\n",
       "    </tr>\n",
       "    <tr>\n",
       "      <th>West</th>\n",
       "      <td>147803</td>\n",
       "      <td>7684007</td>\n",
       "    </tr>\n",
       "  </tbody>\n",
       "</table>\n",
       "</div>"
      ],
      "text/plain": [
       "spender_type  High spender  Low spender\n",
       "Region                                 \n",
       "Midwest             149817      7027107\n",
       "Northeast           101420      5320605\n",
       "South               196523     10002459\n",
       "West                147803      7684007"
      ]
     },
     "execution_count": 13,
     "metadata": {},
     "output_type": "execute_result"
    }
   ],
   "source": [
    "crosstab"
   ]
  },
  {
   "cell_type": "markdown",
   "id": "795323d3",
   "metadata": {},
   "source": [
    "Comparing these two columns we can look at the ratio of high spenders to low spenders in each Region we see that every region has contains 2% High Spenders to 98% Low Spenders; Thus there are no difference in spending habits between regions; "
   ]
  },
  {
   "cell_type": "markdown",
   "id": "54299d55",
   "metadata": {},
   "source": [
    "Create an en exclusion flag for low-activity customers (less than 5 orders) and exclude them from the data. Export this sample"
   ]
  },
  {
   "cell_type": "code",
   "execution_count": 14,
   "id": "961767d5",
   "metadata": {},
   "outputs": [],
   "source": [
    "#creating exclusion flag for low activity customers\n",
    "\n",
    "df_instacart_PII_clean.loc[df_instacart_PII_clean['max_order'] < 5, 'activity_level'] = 'Low Activity'"
   ]
  },
  {
   "cell_type": "code",
   "execution_count": 15,
   "id": "08cf20d9",
   "metadata": {},
   "outputs": [],
   "source": [
    "#exclusion flag for all other customers\n",
    "\n",
    "df_instacart_PII_clean.loc[df_instacart_PII_clean['max_order'] >= 5, 'activity_level'] = 'Active'"
   ]
  },
  {
   "cell_type": "code",
   "execution_count": 16,
   "id": "5ca4e252",
   "metadata": {},
   "outputs": [
    {
     "data": {
      "text/plain": [
       "Active          29270938\n",
       "Low Activity     1358803\n",
       "Name: activity_level, dtype: int64"
      ]
     },
     "execution_count": 16,
     "metadata": {},
     "output_type": "execute_result"
    }
   ],
   "source": [
    "#checking value counts for flag\n",
    "\n",
    "df_instacart_PII_clean['activity_level'].value_counts(dropna = False)"
   ]
  },
  {
   "cell_type": "code",
   "execution_count": 17,
   "id": "b87f0b5d",
   "metadata": {},
   "outputs": [],
   "source": [
    "#create a subset for active users\n",
    "\n",
    "df_active = df_instacart_PII_clean[df_instacart_PII_clean['activity_level']=='Active']"
   ]
  },
  {
   "cell_type": "code",
   "execution_count": 18,
   "id": "bd8d9493",
   "metadata": {},
   "outputs": [
    {
     "data": {
      "text/plain": [
       "Active    29270938\n",
       "Name: activity_level, dtype: int64"
      ]
     },
     "execution_count": 18,
     "metadata": {},
     "output_type": "execute_result"
    }
   ],
   "source": [
    "#checking value counts in dataframe\n",
    "\n",
    "df_active['activity_level'].value_counts(dropna = False)"
   ]
  },
  {
   "cell_type": "code",
   "execution_count": 19,
   "id": "5d7cd4e8",
   "metadata": {},
   "outputs": [],
   "source": [
    "#export dataframe as prepared data\n",
    "\n",
    "df_active.to_pickle(os.path.join(path, '02 Data', 'Prepared Data', 'Active Customer Data.pkl'))"
   ]
  },
  {
   "cell_type": "markdown",
   "id": "b05222dd",
   "metadata": {},
   "source": [
    "Create profiling variable based on age, income, certain goods in the \"department_id\" column, and number of dependents. You might also use \"order_day_of_week\" and \"order_hour_of_day\" columns if you think of a way they would impact customer profiles."
   ]
  },
  {
   "cell_type": "code",
   "execution_count": 20,
   "id": "34ce22a2",
   "metadata": {},
   "outputs": [],
   "source": [
    "#creating a variable based on age\n",
    "\n",
    "result_1 = []\n",
    "\n",
    "for value in df_instacart_PII_clean['Age']:\n",
    "    if value < 30:\n",
    "        result_1.append(\"Young\")\n",
    "    elif (value >= 30) & (value < 55):\n",
    "        result_1.append(\"Middle-aged\")\n",
    "    elif value >= 55:\n",
    "        result_1.append(\"Old\")\n",
    "    else:\n",
    "        result.append(\"NaN\")"
   ]
  },
  {
   "cell_type": "code",
   "execution_count": 21,
   "id": "eca9e420",
   "metadata": {},
   "outputs": [],
   "source": [
    "#creating new column for Age Group\n",
    "\n",
    "df_instacart_PII_clean['Age Group'] = result_1"
   ]
  },
  {
   "cell_type": "code",
   "execution_count": 22,
   "id": "d094d74f",
   "metadata": {},
   "outputs": [
    {
     "data": {
      "text/plain": [
       "Old            12873326\n",
       "Middle-aged    12006203\n",
       "Young           5750212\n",
       "Name: Age Group, dtype: int64"
      ]
     },
     "execution_count": 22,
     "metadata": {},
     "output_type": "execute_result"
    }
   ],
   "source": [
    "#checking value counts\n",
    "\n",
    "df_instacart_PII_clean['Age Group'].value_counts(dropna = False)"
   ]
  },
  {
   "cell_type": "code",
   "execution_count": 23,
   "id": "ab166b5f",
   "metadata": {},
   "outputs": [
    {
     "data": {
      "text/plain": [
       "<Axes: ylabel='Frequency'>"
      ]
     },
     "execution_count": 23,
     "metadata": {},
     "output_type": "execute_result"
    },
    {
     "data": {
      "image/png": "[encoded data removed]",
      "text/plain": [
       "<Figure size 640x480 with 1 Axes>"
      ]
     },
     "metadata": {},
     "output_type": "display_data"
    }
   ],
   "source": [
    "#creating a variable based on income; Need to check if the data makes sense using Histogram\n",
    "\n",
    "df_instacart_PII_clean['income'].plot.hist(bins = 25)"
   ]
  },
  {
   "cell_type": "code",
   "execution_count": 24,
   "id": "2653c398",
   "metadata": {},
   "outputs": [
    {
     "data": {
      "text/plain": [
       "count    3.062974e+07\n",
       "mean     9.945980e+04\n",
       "std      4.306626e+04\n",
       "min      2.590300e+04\n",
       "25%      6.706600e+04\n",
       "50%      9.661200e+04\n",
       "75%      1.279340e+05\n",
       "max      5.939010e+05\n",
       "Name: income, dtype: float64"
      ]
     },
     "execution_count": 24,
     "metadata": {},
     "output_type": "execute_result"
    }
   ],
   "source": [
    "#analyzing income\n",
    "\n",
    "df_instacart_PII_clean['income'].describe()"
   ]
  },
  {
   "cell_type": "code",
   "execution_count": 25,
   "id": "8ba667ae",
   "metadata": {},
   "outputs": [],
   "source": [
    "#creating a variable based on income\n",
    "\n",
    "result_2 = []\n",
    "\n",
    "for value in df_instacart_PII_clean['income']:\n",
    "    if value <= 67066:\n",
    "        result_2.append(\"Lower Class\")\n",
    "    elif (value > 67066) & (value <= 127934):\n",
    "        result_2.append(\"Middle Class\")\n",
    "    elif value > 127934:\n",
    "        result_2.append(\"Higher Class\")\n",
    "    else:\n",
    "        result_2.append(\"NaN\")"
   ]
  },
  {
   "cell_type": "markdown",
   "id": "1f739d77",
   "metadata": {},
   "source": [
    "I based the values for this variable on the 25% and 75% values of income based on this dataset; "
   ]
  },
  {
   "cell_type": "code",
   "execution_count": 26,
   "id": "58cbca42",
   "metadata": {},
   "outputs": [],
   "source": [
    "#creating new column for Income\n",
    "\n",
    "df_instacart_PII_clean['Income Class'] = result_2"
   ]
  },
  {
   "cell_type": "code",
   "execution_count": 27,
   "id": "acd83a18",
   "metadata": {},
   "outputs": [
    {
     "data": {
      "text/plain": [
       "Middle Class    15314934\n",
       "Lower Class      7657453\n",
       "Higher Class     7657354\n",
       "Name: Income Class, dtype: int64"
      ]
     },
     "execution_count": 27,
     "metadata": {},
     "output_type": "execute_result"
    }
   ],
   "source": [
    "#checking value counts\n",
    "\n",
    "df_instacart_PII_clean['Income Class'].value_counts(dropna = False)"
   ]
  },
  {
   "cell_type": "code",
   "execution_count": 28,
   "id": "af6135a1",
   "metadata": {},
   "outputs": [
    {
     "data": {
      "text/plain": [
       "married                             21509211\n",
       "single                               5019732\n",
       "divorced/widowed                     2629966\n",
       "living with parents and siblings     1470832\n",
       "Name: fam_status, dtype: int64"
      ]
     },
     "execution_count": 28,
     "metadata": {},
     "output_type": "execute_result"
    }
   ],
   "source": [
    "#checking value count for fam_status\n",
    "\n",
    "df_instacart_PII_clean['fam_status'].value_counts(dropna = False)"
   ]
  },
  {
   "cell_type": "code",
   "execution_count": 29,
   "id": "58180e90",
   "metadata": {},
   "outputs": [],
   "source": [
    "#creating a variable based on dependents\n",
    "\n",
    "df_instacart_PII_clean.loc[(df_instacart_PII_clean['fam_status'].isin(['single', 'divorced/widowed', 'living with parents and siblings'])) & (df_instacart_PII_clean['dependants']==0), 'Family Structure'] = 'Single with No Dependants'"
   ]
  },
  {
   "cell_type": "code",
   "execution_count": 30,
   "id": "103a31d6",
   "metadata": {},
   "outputs": [],
   "source": [
    "#creating a variable based on dependents\n",
    "\n",
    "df_instacart_PII_clean.loc[(df_instacart_PII_clean['fam_status'].isin(['single', 'divorced/widowed', 'living with parents and siblings'])) & (df_instacart_PII_clean['dependants']>=1), 'Family Structure'] = 'Single with Dependants'"
   ]
  },
  {
   "cell_type": "code",
   "execution_count": 31,
   "id": "894c1bfb",
   "metadata": {},
   "outputs": [],
   "source": [
    "#creating a variable based on dependents\n",
    "\n",
    "df_instacart_PII_clean.loc[(df_instacart_PII_clean['fam_status']== 'married') & (df_instacart_PII_clean['dependants']==1), 'Family Structure'] = 'Married with No Dependants'"
   ]
  },
  {
   "cell_type": "code",
   "execution_count": 32,
   "id": "81581b2d",
   "metadata": {},
   "outputs": [],
   "source": [
    "#creating a variable based on dependents\n",
    "\n",
    "df_instacart_PII_clean.loc[(df_instacart_PII_clean['fam_status']== 'married') & (df_instacart_PII_clean['dependants']>1), 'Family Structure'] = 'Married with Dependants'"
   ]
  },
  {
   "cell_type": "code",
   "execution_count": 33,
   "id": "b2a5fc00",
   "metadata": {},
   "outputs": [
    {
     "data": {
      "text/plain": [
       "Married with Dependants       14374522\n",
       "Single with No Dependants      7649698\n",
       "Married with No Dependants     7134689\n",
       "Single with Dependants         1470832\n",
       "Name: Family Structure, dtype: int64"
      ]
     },
     "execution_count": 33,
     "metadata": {},
     "output_type": "execute_result"
    }
   ],
   "source": [
    "#checking value counts of new flag\n",
    "\n",
    "df_instacart_PII_clean['Family Structure'].value_counts(dropna = False)"
   ]
  },
  {
   "cell_type": "code",
   "execution_count": 34,
   "id": "44252649",
   "metadata": {},
   "outputs": [],
   "source": [
    "#linking data dictionary\n",
    "\n",
    "departments = pd.read_csv(os.path.join(path,'02 Data','Prepared Data','departments_wrangled.csv'),index_col = False)"
   ]
  },
  {
   "cell_type": "code",
   "execution_count": 35,
   "id": "38ab1498",
   "metadata": {},
   "outputs": [
    {
     "data": {
      "text/html": [
       "<div>\n",
       "<style scoped>\n",
       "    .dataframe tbody tr th:only-of-type {\n",
       "        vertical-align: middle;\n",
       "    }\n",
       "\n",
       "    .dataframe tbody tr th {\n",
       "        vertical-align: top;\n",
       "    }\n",
       "\n",
       "    .dataframe thead th {\n",
       "        text-align: right;\n",
       "    }\n",
       "</style>\n",
       "<table border=\"1\" class=\"dataframe\">\n",
       "  <thead>\n",
       "    <tr style=\"text-align: right;\">\n",
       "      <th></th>\n",
       "      <th>Unnamed: 0</th>\n",
       "      <th>department</th>\n",
       "    </tr>\n",
       "  </thead>\n",
       "  <tbody>\n",
       "    <tr>\n",
       "      <th>0</th>\n",
       "      <td>1</td>\n",
       "      <td>frozen</td>\n",
       "    </tr>\n",
       "    <tr>\n",
       "      <th>1</th>\n",
       "      <td>2</td>\n",
       "      <td>other</td>\n",
       "    </tr>\n",
       "    <tr>\n",
       "      <th>2</th>\n",
       "      <td>3</td>\n",
       "      <td>bakery</td>\n",
       "    </tr>\n",
       "    <tr>\n",
       "      <th>3</th>\n",
       "      <td>4</td>\n",
       "      <td>produce</td>\n",
       "    </tr>\n",
       "    <tr>\n",
       "      <th>4</th>\n",
       "      <td>5</td>\n",
       "      <td>alcohol</td>\n",
       "    </tr>\n",
       "    <tr>\n",
       "      <th>5</th>\n",
       "      <td>6</td>\n",
       "      <td>international</td>\n",
       "    </tr>\n",
       "    <tr>\n",
       "      <th>6</th>\n",
       "      <td>7</td>\n",
       "      <td>beverages</td>\n",
       "    </tr>\n",
       "    <tr>\n",
       "      <th>7</th>\n",
       "      <td>8</td>\n",
       "      <td>pets</td>\n",
       "    </tr>\n",
       "    <tr>\n",
       "      <th>8</th>\n",
       "      <td>9</td>\n",
       "      <td>dry goods pasta</td>\n",
       "    </tr>\n",
       "    <tr>\n",
       "      <th>9</th>\n",
       "      <td>10</td>\n",
       "      <td>bulk</td>\n",
       "    </tr>\n",
       "    <tr>\n",
       "      <th>10</th>\n",
       "      <td>11</td>\n",
       "      <td>personal care</td>\n",
       "    </tr>\n",
       "    <tr>\n",
       "      <th>11</th>\n",
       "      <td>12</td>\n",
       "      <td>meat seafood</td>\n",
       "    </tr>\n",
       "    <tr>\n",
       "      <th>12</th>\n",
       "      <td>13</td>\n",
       "      <td>pantry</td>\n",
       "    </tr>\n",
       "    <tr>\n",
       "      <th>13</th>\n",
       "      <td>14</td>\n",
       "      <td>breakfast</td>\n",
       "    </tr>\n",
       "    <tr>\n",
       "      <th>14</th>\n",
       "      <td>15</td>\n",
       "      <td>canned goods</td>\n",
       "    </tr>\n",
       "    <tr>\n",
       "      <th>15</th>\n",
       "      <td>16</td>\n",
       "      <td>dairy eggs</td>\n",
       "    </tr>\n",
       "    <tr>\n",
       "      <th>16</th>\n",
       "      <td>17</td>\n",
       "      <td>household</td>\n",
       "    </tr>\n",
       "    <tr>\n",
       "      <th>17</th>\n",
       "      <td>18</td>\n",
       "      <td>babies</td>\n",
       "    </tr>\n",
       "    <tr>\n",
       "      <th>18</th>\n",
       "      <td>19</td>\n",
       "      <td>snacks</td>\n",
       "    </tr>\n",
       "    <tr>\n",
       "      <th>19</th>\n",
       "      <td>20</td>\n",
       "      <td>deli</td>\n",
       "    </tr>\n",
       "    <tr>\n",
       "      <th>20</th>\n",
       "      <td>21</td>\n",
       "      <td>missing</td>\n",
       "    </tr>\n",
       "  </tbody>\n",
       "</table>\n",
       "</div>"
      ],
      "text/plain": [
       "    Unnamed: 0       department\n",
       "0            1           frozen\n",
       "1            2            other\n",
       "2            3           bakery\n",
       "3            4          produce\n",
       "4            5          alcohol\n",
       "5            6    international\n",
       "6            7        beverages\n",
       "7            8             pets\n",
       "8            9  dry goods pasta\n",
       "9           10             bulk\n",
       "10          11    personal care\n",
       "11          12     meat seafood\n",
       "12          13           pantry\n",
       "13          14        breakfast\n",
       "14          15     canned goods\n",
       "15          16       dairy eggs\n",
       "16          17        household\n",
       "17          18           babies\n",
       "18          19           snacks\n",
       "19          20             deli\n",
       "20          21          missing"
      ]
     },
     "execution_count": 35,
     "metadata": {},
     "output_type": "execute_result"
    }
   ],
   "source": [
    "departments"
   ]
  },
  {
   "cell_type": "code",
   "execution_count": 36,
   "id": "52149af4",
   "metadata": {},
   "outputs": [],
   "source": [
    "#rename 'Unnamed: 0' column\n",
    "\n",
    "departments.rename(columns={'Unnamed: 0':'department_id'},inplace=True)"
   ]
  },
  {
   "cell_type": "code",
   "execution_count": 37,
   "id": "6ad9baed",
   "metadata": {},
   "outputs": [
    {
     "data": {
      "text/html": [
       "<div>\n",
       "<style scoped>\n",
       "    .dataframe tbody tr th:only-of-type {\n",
       "        vertical-align: middle;\n",
       "    }\n",
       "\n",
       "    .dataframe tbody tr th {\n",
       "        vertical-align: top;\n",
       "    }\n",
       "\n",
       "    .dataframe thead th {\n",
       "        text-align: right;\n",
       "    }\n",
       "</style>\n",
       "<table border=\"1\" class=\"dataframe\">\n",
       "  <thead>\n",
       "    <tr style=\"text-align: right;\">\n",
       "      <th></th>\n",
       "      <th>department_id</th>\n",
       "      <th>department</th>\n",
       "    </tr>\n",
       "  </thead>\n",
       "  <tbody>\n",
       "    <tr>\n",
       "      <th>0</th>\n",
       "      <td>1</td>\n",
       "      <td>frozen</td>\n",
       "    </tr>\n",
       "    <tr>\n",
       "      <th>1</th>\n",
       "      <td>2</td>\n",
       "      <td>other</td>\n",
       "    </tr>\n",
       "    <tr>\n",
       "      <th>2</th>\n",
       "      <td>3</td>\n",
       "      <td>bakery</td>\n",
       "    </tr>\n",
       "    <tr>\n",
       "      <th>3</th>\n",
       "      <td>4</td>\n",
       "      <td>produce</td>\n",
       "    </tr>\n",
       "    <tr>\n",
       "      <th>4</th>\n",
       "      <td>5</td>\n",
       "      <td>alcohol</td>\n",
       "    </tr>\n",
       "    <tr>\n",
       "      <th>5</th>\n",
       "      <td>6</td>\n",
       "      <td>international</td>\n",
       "    </tr>\n",
       "    <tr>\n",
       "      <th>6</th>\n",
       "      <td>7</td>\n",
       "      <td>beverages</td>\n",
       "    </tr>\n",
       "    <tr>\n",
       "      <th>7</th>\n",
       "      <td>8</td>\n",
       "      <td>pets</td>\n",
       "    </tr>\n",
       "    <tr>\n",
       "      <th>8</th>\n",
       "      <td>9</td>\n",
       "      <td>dry goods pasta</td>\n",
       "    </tr>\n",
       "    <tr>\n",
       "      <th>9</th>\n",
       "      <td>10</td>\n",
       "      <td>bulk</td>\n",
       "    </tr>\n",
       "    <tr>\n",
       "      <th>10</th>\n",
       "      <td>11</td>\n",
       "      <td>personal care</td>\n",
       "    </tr>\n",
       "    <tr>\n",
       "      <th>11</th>\n",
       "      <td>12</td>\n",
       "      <td>meat seafood</td>\n",
       "    </tr>\n",
       "    <tr>\n",
       "      <th>12</th>\n",
       "      <td>13</td>\n",
       "      <td>pantry</td>\n",
       "    </tr>\n",
       "    <tr>\n",
       "      <th>13</th>\n",
       "      <td>14</td>\n",
       "      <td>breakfast</td>\n",
       "    </tr>\n",
       "    <tr>\n",
       "      <th>14</th>\n",
       "      <td>15</td>\n",
       "      <td>canned goods</td>\n",
       "    </tr>\n",
       "    <tr>\n",
       "      <th>15</th>\n",
       "      <td>16</td>\n",
       "      <td>dairy eggs</td>\n",
       "    </tr>\n",
       "    <tr>\n",
       "      <th>16</th>\n",
       "      <td>17</td>\n",
       "      <td>household</td>\n",
       "    </tr>\n",
       "    <tr>\n",
       "      <th>17</th>\n",
       "      <td>18</td>\n",
       "      <td>babies</td>\n",
       "    </tr>\n",
       "    <tr>\n",
       "      <th>18</th>\n",
       "      <td>19</td>\n",
       "      <td>snacks</td>\n",
       "    </tr>\n",
       "    <tr>\n",
       "      <th>19</th>\n",
       "      <td>20</td>\n",
       "      <td>deli</td>\n",
       "    </tr>\n",
       "    <tr>\n",
       "      <th>20</th>\n",
       "      <td>21</td>\n",
       "      <td>missing</td>\n",
       "    </tr>\n",
       "  </tbody>\n",
       "</table>\n",
       "</div>"
      ],
      "text/plain": [
       "    department_id       department\n",
       "0               1           frozen\n",
       "1               2            other\n",
       "2               3           bakery\n",
       "3               4          produce\n",
       "4               5          alcohol\n",
       "5               6    international\n",
       "6               7        beverages\n",
       "7               8             pets\n",
       "8               9  dry goods pasta\n",
       "9              10             bulk\n",
       "10             11    personal care\n",
       "11             12     meat seafood\n",
       "12             13           pantry\n",
       "13             14        breakfast\n",
       "14             15     canned goods\n",
       "15             16       dairy eggs\n",
       "16             17        household\n",
       "17             18           babies\n",
       "18             19           snacks\n",
       "19             20             deli\n",
       "20             21          missing"
      ]
     },
     "execution_count": 37,
     "metadata": {},
     "output_type": "execute_result"
    }
   ],
   "source": [
    "departments"
   ]
  },
  {
   "cell_type": "code",
   "execution_count": 38,
   "id": "61657239",
   "metadata": {},
   "outputs": [
    {
     "name": "stdout",
     "output_type": "stream",
     "text": [
      "<class 'pandas.core.frame.DataFrame'>\n",
      "RangeIndex: 21 entries, 0 to 20\n",
      "Data columns (total 2 columns):\n",
      " #   Column         Non-Null Count  Dtype \n",
      "---  ------         --------------  ----- \n",
      " 0   department_id  21 non-null     int64 \n",
      " 1   department     21 non-null     object\n",
      "dtypes: int64(1), object(1)\n",
      "memory usage: 468.0+ bytes\n"
     ]
    }
   ],
   "source": [
    "#checking data type before merge\n",
    "\n",
    "departments.info()"
   ]
  },
  {
   "cell_type": "code",
   "execution_count": 39,
   "id": "0bb482ba",
   "metadata": {},
   "outputs": [
    {
     "name": "stdout",
     "output_type": "stream",
     "text": [
      "<class 'pandas.core.frame.DataFrame'>\n",
      "Int64Index: 30629741 entries, 0 to 30629740\n",
      "Data columns (total 35 columns):\n",
      " #   Column                 Dtype   \n",
      "---  ------                 -----   \n",
      " 0   order_id               int64   \n",
      " 1   user_id                int64   \n",
      " 2   order_number           int64   \n",
      " 3   order_day_of_week      int64   \n",
      " 4   order_hour_of_day      int64   \n",
      " 5   days_since_last_order  float64 \n",
      " 6   product_id             int64   \n",
      " 7   add_to_cart_order      int64   \n",
      " 8   reordered              int64   \n",
      " 9   product_name           object  \n",
      " 10  aisle_id               int64   \n",
      " 11  department_id          int64   \n",
      " 12  prices                 float64 \n",
      " 13  price_range_loc        object  \n",
      " 14  busiest days           object  \n",
      " 15  busiest_period_of_day  object  \n",
      " 16  max_order              int64   \n",
      " 17  loyalty_flag           object  \n",
      " 18  avg_prod_price         float64 \n",
      " 19  spender_type           object  \n",
      " 20  frequency              float64 \n",
      " 21  frequency_type         object  \n",
      " 22  Gender                 object  \n",
      " 23  STATE                  object  \n",
      " 24  Age                    int64   \n",
      " 25  date_joined            object  \n",
      " 26  dependants             int64   \n",
      " 27  fam_status             object  \n",
      " 28  income                 int64   \n",
      " 29  _merge                 category\n",
      " 30  Region                 object  \n",
      " 31  activity_level         object  \n",
      " 32  Age Group              object  \n",
      " 33  Income Class           object  \n",
      " 34  Family Structure       object  \n",
      "dtypes: category(1), float64(4), int64(14), object(16)\n",
      "memory usage: 8.0+ GB\n"
     ]
    }
   ],
   "source": [
    "#checking data type before merge\n",
    "\n",
    "df_instacart_PII_clean.info()"
   ]
  },
  {
   "cell_type": "code",
   "execution_count": 40,
   "id": "7ffa047e",
   "metadata": {},
   "outputs": [],
   "source": [
    "#merge data dictionary with dataset\n",
    "\n",
    "df_instacart_PII_clean = df_instacart_PII_clean.merge(departments, on = 'department_id')"
   ]
  },
  {
   "cell_type": "code",
   "execution_count": 41,
   "id": "a41b6523",
   "metadata": {},
   "outputs": [
    {
     "data": {
      "text/html": [
       "<div>\n",
       "<style scoped>\n",
       "    .dataframe tbody tr th:only-of-type {\n",
       "        vertical-align: middle;\n",
       "    }\n",
       "\n",
       "    .dataframe tbody tr th {\n",
       "        vertical-align: top;\n",
       "    }\n",
       "\n",
       "    .dataframe thead th {\n",
       "        text-align: right;\n",
       "    }\n",
       "</style>\n",
       "<table border=\"1\" class=\"dataframe\">\n",
       "  <thead>\n",
       "    <tr style=\"text-align: right;\">\n",
       "      <th></th>\n",
       "      <th>order_id</th>\n",
       "      <th>user_id</th>\n",
       "      <th>order_number</th>\n",
       "      <th>order_day_of_week</th>\n",
       "      <th>order_hour_of_day</th>\n",
       "      <th>days_since_last_order</th>\n",
       "      <th>product_id</th>\n",
       "      <th>add_to_cart_order</th>\n",
       "      <th>reordered</th>\n",
       "      <th>product_name</th>\n",
       "      <th>aisle_id</th>\n",
       "      <th>department_id</th>\n",
       "      <th>prices</th>\n",
       "      <th>price_range_loc</th>\n",
       "      <th>busiest days</th>\n",
       "      <th>busiest_period_of_day</th>\n",
       "      <th>max_order</th>\n",
       "      <th>loyalty_flag</th>\n",
       "      <th>avg_prod_price</th>\n",
       "      <th>spender_type</th>\n",
       "      <th>frequency</th>\n",
       "      <th>frequency_type</th>\n",
       "      <th>Gender</th>\n",
       "      <th>STATE</th>\n",
       "      <th>Age</th>\n",
       "      <th>date_joined</th>\n",
       "      <th>dependants</th>\n",
       "      <th>fam_status</th>\n",
       "      <th>income</th>\n",
       "      <th>_merge</th>\n",
       "      <th>Region</th>\n",
       "      <th>activity_level</th>\n",
       "      <th>Age Group</th>\n",
       "      <th>Income Class</th>\n",
       "      <th>Family Structure</th>\n",
       "      <th>department</th>\n",
       "    </tr>\n",
       "  </thead>\n",
       "  <tbody>\n",
       "    <tr>\n",
       "      <th>0</th>\n",
       "      <td>2539329</td>\n",
       "      <td>1</td>\n",
       "      <td>1</td>\n",
       "      <td>2</td>\n",
       "      <td>8</td>\n",
       "      <td>NaN</td>\n",
       "      <td>196</td>\n",
       "      <td>1</td>\n",
       "      <td>0</td>\n",
       "      <td>Soda</td>\n",
       "      <td>77</td>\n",
       "      <td>7</td>\n",
       "      <td>9.0</td>\n",
       "      <td>Mid-range product</td>\n",
       "      <td>Regular busy</td>\n",
       "      <td>Average orders</td>\n",
       "      <td>10</td>\n",
       "      <td>New customer</td>\n",
       "      <td>6.367797</td>\n",
       "      <td>Low spender</td>\n",
       "      <td>20.5</td>\n",
       "      <td>Non-frequent customer</td>\n",
       "      <td>Female</td>\n",
       "      <td>Alabama</td>\n",
       "      <td>31</td>\n",
       "      <td>2/17/2019</td>\n",
       "      <td>3</td>\n",
       "      <td>married</td>\n",
       "      <td>40423</td>\n",
       "      <td>both</td>\n",
       "      <td>South</td>\n",
       "      <td>Active</td>\n",
       "      <td>Middle-aged</td>\n",
       "      <td>Lower Class</td>\n",
       "      <td>Married with Dependants</td>\n",
       "      <td>beverages</td>\n",
       "    </tr>\n",
       "    <tr>\n",
       "      <th>1</th>\n",
       "      <td>2398795</td>\n",
       "      <td>1</td>\n",
       "      <td>2</td>\n",
       "      <td>3</td>\n",
       "      <td>7</td>\n",
       "      <td>15.0</td>\n",
       "      <td>196</td>\n",
       "      <td>1</td>\n",
       "      <td>1</td>\n",
       "      <td>Soda</td>\n",
       "      <td>77</td>\n",
       "      <td>7</td>\n",
       "      <td>9.0</td>\n",
       "      <td>Mid-range product</td>\n",
       "      <td>Least busy days</td>\n",
       "      <td>Average orders</td>\n",
       "      <td>10</td>\n",
       "      <td>New customer</td>\n",
       "      <td>6.367797</td>\n",
       "      <td>Low spender</td>\n",
       "      <td>20.5</td>\n",
       "      <td>Non-frequent customer</td>\n",
       "      <td>Female</td>\n",
       "      <td>Alabama</td>\n",
       "      <td>31</td>\n",
       "      <td>2/17/2019</td>\n",
       "      <td>3</td>\n",
       "      <td>married</td>\n",
       "      <td>40423</td>\n",
       "      <td>both</td>\n",
       "      <td>South</td>\n",
       "      <td>Active</td>\n",
       "      <td>Middle-aged</td>\n",
       "      <td>Lower Class</td>\n",
       "      <td>Married with Dependants</td>\n",
       "      <td>beverages</td>\n",
       "    </tr>\n",
       "    <tr>\n",
       "      <th>2</th>\n",
       "      <td>473747</td>\n",
       "      <td>1</td>\n",
       "      <td>3</td>\n",
       "      <td>3</td>\n",
       "      <td>12</td>\n",
       "      <td>21.0</td>\n",
       "      <td>196</td>\n",
       "      <td>1</td>\n",
       "      <td>1</td>\n",
       "      <td>Soda</td>\n",
       "      <td>77</td>\n",
       "      <td>7</td>\n",
       "      <td>9.0</td>\n",
       "      <td>Mid-range product</td>\n",
       "      <td>Least busy days</td>\n",
       "      <td>Most orders</td>\n",
       "      <td>10</td>\n",
       "      <td>New customer</td>\n",
       "      <td>6.367797</td>\n",
       "      <td>Low spender</td>\n",
       "      <td>20.5</td>\n",
       "      <td>Non-frequent customer</td>\n",
       "      <td>Female</td>\n",
       "      <td>Alabama</td>\n",
       "      <td>31</td>\n",
       "      <td>2/17/2019</td>\n",
       "      <td>3</td>\n",
       "      <td>married</td>\n",
       "      <td>40423</td>\n",
       "      <td>both</td>\n",
       "      <td>South</td>\n",
       "      <td>Active</td>\n",
       "      <td>Middle-aged</td>\n",
       "      <td>Lower Class</td>\n",
       "      <td>Married with Dependants</td>\n",
       "      <td>beverages</td>\n",
       "    </tr>\n",
       "    <tr>\n",
       "      <th>3</th>\n",
       "      <td>2254736</td>\n",
       "      <td>1</td>\n",
       "      <td>4</td>\n",
       "      <td>4</td>\n",
       "      <td>7</td>\n",
       "      <td>29.0</td>\n",
       "      <td>196</td>\n",
       "      <td>1</td>\n",
       "      <td>1</td>\n",
       "      <td>Soda</td>\n",
       "      <td>77</td>\n",
       "      <td>7</td>\n",
       "      <td>9.0</td>\n",
       "      <td>Mid-range product</td>\n",
       "      <td>Least busy days</td>\n",
       "      <td>Average orders</td>\n",
       "      <td>10</td>\n",
       "      <td>New customer</td>\n",
       "      <td>6.367797</td>\n",
       "      <td>Low spender</td>\n",
       "      <td>20.5</td>\n",
       "      <td>Non-frequent customer</td>\n",
       "      <td>Female</td>\n",
       "      <td>Alabama</td>\n",
       "      <td>31</td>\n",
       "      <td>2/17/2019</td>\n",
       "      <td>3</td>\n",
       "      <td>married</td>\n",
       "      <td>40423</td>\n",
       "      <td>both</td>\n",
       "      <td>South</td>\n",
       "      <td>Active</td>\n",
       "      <td>Middle-aged</td>\n",
       "      <td>Lower Class</td>\n",
       "      <td>Married with Dependants</td>\n",
       "      <td>beverages</td>\n",
       "    </tr>\n",
       "    <tr>\n",
       "      <th>4</th>\n",
       "      <td>431534</td>\n",
       "      <td>1</td>\n",
       "      <td>5</td>\n",
       "      <td>4</td>\n",
       "      <td>15</td>\n",
       "      <td>28.0</td>\n",
       "      <td>196</td>\n",
       "      <td>1</td>\n",
       "      <td>1</td>\n",
       "      <td>Soda</td>\n",
       "      <td>77</td>\n",
       "      <td>7</td>\n",
       "      <td>9.0</td>\n",
       "      <td>Mid-range product</td>\n",
       "      <td>Least busy days</td>\n",
       "      <td>Most orders</td>\n",
       "      <td>10</td>\n",
       "      <td>New customer</td>\n",
       "      <td>6.367797</td>\n",
       "      <td>Low spender</td>\n",
       "      <td>20.5</td>\n",
       "      <td>Non-frequent customer</td>\n",
       "      <td>Female</td>\n",
       "      <td>Alabama</td>\n",
       "      <td>31</td>\n",
       "      <td>2/17/2019</td>\n",
       "      <td>3</td>\n",
       "      <td>married</td>\n",
       "      <td>40423</td>\n",
       "      <td>both</td>\n",
       "      <td>South</td>\n",
       "      <td>Active</td>\n",
       "      <td>Middle-aged</td>\n",
       "      <td>Lower Class</td>\n",
       "      <td>Married with Dependants</td>\n",
       "      <td>beverages</td>\n",
       "    </tr>\n",
       "  </tbody>\n",
       "</table>\n",
       "</div>"
      ],
      "text/plain": [
       "   order_id  user_id  order_number  order_day_of_week  order_hour_of_day  \\\n",
       "0   2539329        1             1                  2                  8   \n",
       "1   2398795        1             2                  3                  7   \n",
       "2    473747        1             3                  3                 12   \n",
       "3   2254736        1             4                  4                  7   \n",
       "4    431534        1             5                  4                 15   \n",
       "\n",
       "   days_since_last_order  product_id  add_to_cart_order  reordered  \\\n",
       "0                    NaN         196                  1          0   \n",
       "1                   15.0         196                  1          1   \n",
       "2                   21.0         196                  1          1   \n",
       "3                   29.0         196                  1          1   \n",
       "4                   28.0         196                  1          1   \n",
       "\n",
       "  product_name  aisle_id  department_id  prices    price_range_loc  \\\n",
       "0         Soda        77              7     9.0  Mid-range product   \n",
       "1         Soda        77              7     9.0  Mid-range product   \n",
       "2         Soda        77              7     9.0  Mid-range product   \n",
       "3         Soda        77              7     9.0  Mid-range product   \n",
       "4         Soda        77              7     9.0  Mid-range product   \n",
       "\n",
       "      busiest days busiest_period_of_day  max_order  loyalty_flag  \\\n",
       "0     Regular busy        Average orders         10  New customer   \n",
       "1  Least busy days        Average orders         10  New customer   \n",
       "2  Least busy days           Most orders         10  New customer   \n",
       "3  Least busy days        Average orders         10  New customer   \n",
       "4  Least busy days           Most orders         10  New customer   \n",
       "\n",
       "   avg_prod_price spender_type  frequency         frequency_type  Gender  \\\n",
       "0        6.367797  Low spender       20.5  Non-frequent customer  Female   \n",
       "1        6.367797  Low spender       20.5  Non-frequent customer  Female   \n",
       "2        6.367797  Low spender       20.5  Non-frequent customer  Female   \n",
       "3        6.367797  Low spender       20.5  Non-frequent customer  Female   \n",
       "4        6.367797  Low spender       20.5  Non-frequent customer  Female   \n",
       "\n",
       "     STATE  Age date_joined  dependants fam_status  income _merge Region  \\\n",
       "0  Alabama   31   2/17/2019           3    married   40423   both  South   \n",
       "1  Alabama   31   2/17/2019           3    married   40423   both  South   \n",
       "2  Alabama   31   2/17/2019           3    married   40423   both  South   \n",
       "3  Alabama   31   2/17/2019           3    married   40423   both  South   \n",
       "4  Alabama   31   2/17/2019           3    married   40423   both  South   \n",
       "\n",
       "  activity_level    Age Group Income Class         Family Structure department  \n",
       "0         Active  Middle-aged  Lower Class  Married with Dependants  beverages  \n",
       "1         Active  Middle-aged  Lower Class  Married with Dependants  beverages  \n",
       "2         Active  Middle-aged  Lower Class  Married with Dependants  beverages  \n",
       "3         Active  Middle-aged  Lower Class  Married with Dependants  beverages  \n",
       "4         Active  Middle-aged  Lower Class  Married with Dependants  beverages  "
      ]
     },
     "execution_count": 41,
     "metadata": {},
     "output_type": "execute_result"
    }
   ],
   "source": [
    "#check results\n",
    "\n",
    "df_instacart_PII_clean.head()"
   ]
  },
  {
   "cell_type": "markdown",
   "id": "cb4c39c9",
   "metadata": {},
   "source": [
    "# 06. Creating visualizations"
   ]
  },
  {
   "cell_type": "code",
   "execution_count": 42,
   "id": "34030704",
   "metadata": {},
   "outputs": [
    {
     "data": {
      "text/plain": [
       "Text(0.5, 1.0, 'Number of Orders by Department')"
      ]
     },
     "execution_count": 42,
     "metadata": {},
     "output_type": "execute_result"
    },
    {
     "data": {
      "image/png": "[encoded data removed]",
      "text/plain": [
       "<Figure size 640x480 with 1 Axes>"
      ]
     },
     "metadata": {},
     "output_type": "display_data"
    }
   ],
   "source": [
    "#Create a bar chart\n",
    "\n",
    "orders_by_department = df_instacart_PII_clean['department'].value_counts().plot.bar()\n",
    "plt.title('Number of Orders by Department')"
   ]
  },
  {
   "cell_type": "code",
   "execution_count": 43,
   "id": "1c986c9a",
   "metadata": {},
   "outputs": [],
   "source": [
    "#Export\n",
    "\n",
    "orders_by_department.figure.savefig(os.path.join(path, '04 Analysis','Visualizations', 'orders_by_department.png'),bbox_inches='tight')"
   ]
  },
  {
   "cell_type": "code",
   "execution_count": 44,
   "id": "8059bca2",
   "metadata": {},
   "outputs": [],
   "source": [
    "#Create profile based on most ordered and least ordered departments (produce and pets)\n",
    "\n",
    "df_instacart_PII_clean.loc[df_instacart_PII_clean['department_id'] == 4, 'customer'] = 'produce_buyer'"
   ]
  },
  {
   "cell_type": "code",
   "execution_count": 45,
   "id": "0bd65a09",
   "metadata": {},
   "outputs": [],
   "source": [
    "df_instacart_PII_clean.loc[df_instacart_PII_clean['department_id'] != 4, 'customer'] = 'produce_non_buyer'"
   ]
  },
  {
   "cell_type": "code",
   "execution_count": 46,
   "id": "5f90c5ba",
   "metadata": {},
   "outputs": [],
   "source": [
    "#User_id column used to identify unique customers\n",
    "\n",
    "unique = df_instacart_PII_clean.loc[df_instacart_PII_clean['customer'] == 'produce_buyer', 'user_id'].unique()"
   ]
  },
  {
   "cell_type": "code",
   "execution_count": 47,
   "id": "bb94e276",
   "metadata": {},
   "outputs": [],
   "source": [
    "df_instacart_PII_clean.loc[df_instacart_PII_clean['user_id'].isin(unique), 'customer'] = 'produce_buyer'"
   ]
  },
  {
   "cell_type": "code",
   "execution_count": 48,
   "id": "83fa2435",
   "metadata": {},
   "outputs": [
    {
     "data": {
      "text/plain": [
       "produce_buyer        30178572\n",
       "produce_non_buyer      451169\n",
       "Name: customer, dtype: int64"
      ]
     },
     "execution_count": 48,
     "metadata": {},
     "output_type": "execute_result"
    }
   ],
   "source": [
    "df_instacart_PII_clean['customer'].value_counts(dropna = False)"
   ]
  },
  {
   "cell_type": "code",
   "execution_count": 49,
   "id": "b18b87e1",
   "metadata": {},
   "outputs": [],
   "source": [
    "#Create profile based on most ordered and least ordered departments (produce and pets)\n",
    "\n",
    "df_instacart_PII_clean.loc[df_instacart_PII_clean['department_id'] == 8, 'customer_1'] = 'pet_buyer'"
   ]
  },
  {
   "cell_type": "code",
   "execution_count": 50,
   "id": "7d45475c",
   "metadata": {},
   "outputs": [],
   "source": [
    "df_instacart_PII_clean.loc[df_instacart_PII_clean['department_id'] != 8, 'customer_1'] = 'pet_non_buyer'"
   ]
  },
  {
   "cell_type": "code",
   "execution_count": 51,
   "id": "95616245",
   "metadata": {},
   "outputs": [],
   "source": [
    "#User_id column used to identify unique customers\n",
    "\n",
    "unique_1 = df_instacart_PII_clean.loc[df_instacart_PII_clean['customer_1'] == 'pet_buyer', 'user_id'].unique()"
   ]
  },
  {
   "cell_type": "code",
   "execution_count": 52,
   "id": "8437e429",
   "metadata": {},
   "outputs": [],
   "source": [
    "df_instacart_PII_clean.loc[df_instacart_PII_clean['user_id'].isin(unique), 'customer_1'] = 'pet_buyer'"
   ]
  },
  {
   "cell_type": "code",
   "execution_count": 53,
   "id": "f7600661",
   "metadata": {},
   "outputs": [
    {
     "data": {
      "text/plain": [
       "pet_buyer        30182467\n",
       "pet_non_buyer      447274\n",
       "Name: customer_1, dtype: int64"
      ]
     },
     "execution_count": 53,
     "metadata": {},
     "output_type": "execute_result"
    }
   ],
   "source": [
    "df_instacart_PII_clean['customer_1'].value_counts(dropna = False)"
   ]
  },
  {
   "cell_type": "markdown",
   "id": "a6026262",
   "metadata": {},
   "source": [
    "Create Visualizations to show the distribution of profiles"
   ]
  },
  {
   "cell_type": "code",
   "execution_count": 54,
   "id": "872f95ab",
   "metadata": {},
   "outputs": [
    {
     "data": {
      "text/plain": [
       "Text(0.5, 1.0, 'Orders by Age Group')"
      ]
     },
     "execution_count": 54,
     "metadata": {},
     "output_type": "execute_result"
    },
    {
     "data": {
      "image/png": "[encoded data removed]",
      "text/plain": [
       "<Figure size 640x480 with 1 Axes>"
      ]
     },
     "metadata": {},
     "output_type": "display_data"
    }
   ],
   "source": [
    "#Age\n",
    "\n",
    "age_bar_chart = df_instacart_PII_clean['Age Group'].value_counts().plot.bar()\n",
    "plt.title('Orders by Age Group')"
   ]
  },
  {
   "cell_type": "code",
   "execution_count": 55,
   "id": "c85f2cf5",
   "metadata": {},
   "outputs": [],
   "source": [
    "#Export\n",
    "\n",
    "age_bar_chart.figure.savefig(os.path.join(path, '04 Analysis','Visualizations', 'age_bar_chart.png'),bbox_inches='tight')"
   ]
  },
  {
   "cell_type": "code",
   "execution_count": 56,
   "id": "39d3a845",
   "metadata": {
    "scrolled": false
   },
   "outputs": [
    {
     "data": {
      "text/plain": [
       "Text(0.5, 1.0, 'Orders by Loyalty Status')"
      ]
     },
     "execution_count": 56,
     "metadata": {},
     "output_type": "execute_result"
    },
    {
     "data": {
      "image/png": "[encoded data removed]",
      "text/plain": [
       "<Figure size 640x480 with 1 Axes>"
      ]
     },
     "metadata": {},
     "output_type": "display_data"
    }
   ],
   "source": [
    "#Loyalty Flag\n",
    "\n",
    "loyalty_bar_chart = df_instacart_PII_clean['loyalty_flag'].value_counts().plot.bar()\n",
    "plt.title('Orders by Loyalty Status')"
   ]
  },
  {
   "cell_type": "code",
   "execution_count": 57,
   "id": "fcac9bd9",
   "metadata": {},
   "outputs": [],
   "source": [
    "#Export\n",
    "\n",
    "loyalty_bar_chart.figure.savefig(os.path.join(path, '04 Analysis','Visualizations', 'loyalty_bar_chart.png'),bbox_inches='tight')"
   ]
  },
  {
   "cell_type": "code",
   "execution_count": 58,
   "id": "229b6a75",
   "metadata": {},
   "outputs": [
    {
     "data": {
      "text/plain": [
       "Text(0.5, 1.0, 'Orders by Income Class')"
      ]
     },
     "execution_count": 58,
     "metadata": {},
     "output_type": "execute_result"
    },
    {
     "data": {
      "image/png": "[encoded data removed]",
      "text/plain": [
       "<Figure size 640x480 with 1 Axes>"
      ]
     },
     "metadata": {},
     "output_type": "display_data"
    }
   ],
   "source": [
    "#Income\n",
    "\n",
    "income_bar_chart = df_instacart_PII_clean['Income Class'].value_counts().plot.bar()\n",
    "plt.title('Orders by Income Class')"
   ]
  },
  {
   "cell_type": "code",
   "execution_count": 59,
   "id": "bda831bc",
   "metadata": {},
   "outputs": [],
   "source": [
    "#Export\n",
    "\n",
    "income_bar_chart.figure.savefig(os.path.join(path, '04 Analysis','Visualizations', 'income_bar_chart.png'),bbox_inches='tight')"
   ]
  },
  {
   "cell_type": "code",
   "execution_count": 60,
   "id": "ed5dac84",
   "metadata": {},
   "outputs": [
    {
     "data": {
      "text/plain": [
       "Text(0.5, 1.0, 'Orders by Type of Buyer')"
      ]
     },
     "execution_count": 60,
     "metadata": {},
     "output_type": "execute_result"
    },
    {
     "data": {
      "image/png": "[encoded data removed]",
      "text/plain": [
       "<Figure size 640x480 with 1 Axes>"
      ]
     },
     "metadata": {},
     "output_type": "display_data"
    }
   ],
   "source": [
    "#Department (Produce)\n",
    "\n",
    "produce_bar_chart = df_instacart_PII_clean['customer'].value_counts().plot.bar()\n",
    "plt.title('Orders by Type of Buyer')"
   ]
  },
  {
   "cell_type": "code",
   "execution_count": 61,
   "id": "56362e13",
   "metadata": {},
   "outputs": [],
   "source": [
    "#Export\n",
    "\n",
    "produce_bar_chart.figure.savefig(os.path.join(path, '04 Analysis','Visualizations', 'produce_bar_chart.png'),bbox_inches='tight')"
   ]
  },
  {
   "cell_type": "code",
   "execution_count": 62,
   "id": "426c4277",
   "metadata": {},
   "outputs": [
    {
     "data": {
      "text/plain": [
       "Text(0.5, 1.0, 'Orders by Type of Buyer')"
      ]
     },
     "execution_count": 62,
     "metadata": {},
     "output_type": "execute_result"
    },
    {
     "data": {
      "image/png": "[encoded data removed]",
      "text/plain": [
       "<Figure size 640x480 with 1 Axes>"
      ]
     },
     "metadata": {},
     "output_type": "display_data"
    }
   ],
   "source": [
    "#Department (Pets)\n",
    "\n",
    "pet_bar_chart = df_instacart_PII_clean['customer_1'].value_counts().plot.bar()\n",
    "plt.title('Orders by Type of Buyer')"
   ]
  },
  {
   "cell_type": "code",
   "execution_count": 63,
   "id": "9a4d553e",
   "metadata": {},
   "outputs": [],
   "source": [
    "#Export\n",
    "\n",
    "pet_bar_chart.figure.savefig(os.path.join(path, '04 Analysis','Visualizations', 'pet_bar_chart.png'),bbox_inches='tight')"
   ]
  },
  {
   "cell_type": "code",
   "execution_count": 64,
   "id": "b0421485",
   "metadata": {},
   "outputs": [
    {
     "data": {
      "text/plain": [
       "Text(0.5, 1.0, 'Orders by Family Structure')"
      ]
     },
     "execution_count": 64,
     "metadata": {},
     "output_type": "execute_result"
    },
    {
     "data": {
      "image/png": "[encoded data removed]",
      "text/plain": [
       "<Figure size 640x480 with 1 Axes>"
      ]
     },
     "metadata": {},
     "output_type": "display_data"
    }
   ],
   "source": [
    "#Dependants\n",
    "\n",
    "family_structure_bar_chart = df_instacart_PII_clean['Family Structure'].value_counts().plot.bar()\n",
    "plt.title('Orders by Family Structure')"
   ]
  },
  {
   "cell_type": "code",
   "execution_count": 65,
   "id": "3f32a711",
   "metadata": {},
   "outputs": [],
   "source": [
    "#Export\n",
    "\n",
    "family_structure_bar_chart.figure.savefig(os.path.join(path, '04 Analysis','Visualizations', 'family_structure_bar_chart.png'),bbox_inches='tight')"
   ]
  },
  {
   "cell_type": "code",
   "execution_count": 66,
   "id": "2ff6292e",
   "metadata": {},
   "outputs": [
    {
     "data": {
      "text/plain": [
       "Text(0.5, 1.0, 'Orders by Region')"
      ]
     },
     "execution_count": 66,
     "metadata": {},
     "output_type": "execute_result"
    },
    {
     "data": {
      "image/png": "[encoded data removed]",
      "text/plain": [
       "<Figure size 640x480 with 1 Axes>"
      ]
     },
     "metadata": {},
     "output_type": "display_data"
    }
   ],
   "source": [
    "#Region\n",
    "\n",
    "region_bar_chart = df_instacart_PII_clean['Region'].value_counts().plot.bar()\n",
    "plt.title('Orders by Region')"
   ]
  },
  {
   "cell_type": "code",
   "execution_count": 67,
   "id": "43332094",
   "metadata": {},
   "outputs": [],
   "source": [
    "#Export\n",
    "\n",
    "region_bar_chart.figure.savefig(os.path.join(path, '04 Analysis','Visualizations', 'region_bar_chart.png'),bbox_inches='tight')"
   ]
  },
  {
   "cell_type": "markdown",
   "id": "e8675e06",
   "metadata": {},
   "source": [
    "Aggregate the max, mean, and min variables on a customer-profile level for usage frequency and expenditure;"
   ]
  },
  {
   "cell_type": "code",
   "execution_count": 68,
   "id": "138c846e",
   "metadata": {},
   "outputs": [],
   "source": [
    "#Age\n",
    "\n",
    "crosstab_age = df_instacart_PII_clean.groupby('Age Group').agg({'order_id':['count'],'days_since_last_order':['min', 'mean', 'max'], 'prices':['min', 'mean', 'max']})"
   ]
  },
  {
   "cell_type": "code",
   "execution_count": 69,
   "id": "219a5f40",
   "metadata": {},
   "outputs": [
    {
     "data": {
      "text/html": [
       "<div>\n",
       "<style scoped>\n",
       "    .dataframe tbody tr th:only-of-type {\n",
       "        vertical-align: middle;\n",
       "    }\n",
       "\n",
       "    .dataframe tbody tr th {\n",
       "        vertical-align: top;\n",
       "    }\n",
       "\n",
       "    .dataframe thead tr th {\n",
       "        text-align: left;\n",
       "    }\n",
       "\n",
       "    .dataframe thead tr:last-of-type th {\n",
       "        text-align: right;\n",
       "    }\n",
       "</style>\n",
       "<table border=\"1\" class=\"dataframe\">\n",
       "  <thead>\n",
       "    <tr>\n",
       "      <th></th>\n",
       "      <th>order_id</th>\n",
       "      <th colspan=\"3\" halign=\"left\">days_since_last_order</th>\n",
       "      <th colspan=\"3\" halign=\"left\">prices</th>\n",
       "    </tr>\n",
       "    <tr>\n",
       "      <th></th>\n",
       "      <th>count</th>\n",
       "      <th>min</th>\n",
       "      <th>mean</th>\n",
       "      <th>max</th>\n",
       "      <th>min</th>\n",
       "      <th>mean</th>\n",
       "      <th>max</th>\n",
       "    </tr>\n",
       "    <tr>\n",
       "      <th>Age Group</th>\n",
       "      <th></th>\n",
       "      <th></th>\n",
       "      <th></th>\n",
       "      <th></th>\n",
       "      <th></th>\n",
       "      <th></th>\n",
       "      <th></th>\n",
       "    </tr>\n",
       "  </thead>\n",
       "  <tbody>\n",
       "    <tr>\n",
       "      <th>Middle-aged</th>\n",
       "      <td>12006203</td>\n",
       "      <td>0.0</td>\n",
       "      <td>11.109532</td>\n",
       "      <td>30.0</td>\n",
       "      <td>1.0</td>\n",
       "      <td>11.806152</td>\n",
       "      <td>99999.0</td>\n",
       "    </tr>\n",
       "    <tr>\n",
       "      <th>Old</th>\n",
       "      <td>12873326</td>\n",
       "      <td>0.0</td>\n",
       "      <td>11.104904</td>\n",
       "      <td>30.0</td>\n",
       "      <td>1.0</td>\n",
       "      <td>11.886411</td>\n",
       "      <td>99999.0</td>\n",
       "    </tr>\n",
       "    <tr>\n",
       "      <th>Young</th>\n",
       "      <td>5750212</td>\n",
       "      <td>0.0</td>\n",
       "      <td>11.125185</td>\n",
       "      <td>30.0</td>\n",
       "      <td>1.0</td>\n",
       "      <td>12.215802</td>\n",
       "      <td>99999.0</td>\n",
       "    </tr>\n",
       "  </tbody>\n",
       "</table>\n",
       "</div>"
      ],
      "text/plain": [
       "             order_id days_since_last_order                  prices  \\\n",
       "                count                   min       mean   max    min   \n",
       "Age Group                                                             \n",
       "Middle-aged  12006203                   0.0  11.109532  30.0    1.0   \n",
       "Old          12873326                   0.0  11.104904  30.0    1.0   \n",
       "Young         5750212                   0.0  11.125185  30.0    1.0   \n",
       "\n",
       "                                 \n",
       "                  mean      max  \n",
       "Age Group                        \n",
       "Middle-aged  11.806152  99999.0  \n",
       "Old          11.886411  99999.0  \n",
       "Young        12.215802  99999.0  "
      ]
     },
     "execution_count": 69,
     "metadata": {},
     "output_type": "execute_result"
    }
   ],
   "source": [
    "#checking results\n",
    "\n",
    "crosstab_age"
   ]
  },
  {
   "cell_type": "code",
   "execution_count": 70,
   "id": "2ce11d29",
   "metadata": {},
   "outputs": [],
   "source": [
    "#Income\n",
    "\n",
    "crosstab_income = df_instacart_PII_clean.groupby('Income Class').agg({'order_id':['count'],'days_since_last_order':['min', 'mean', 'max'], 'prices':['min', 'mean', 'max']})"
   ]
  },
  {
   "cell_type": "code",
   "execution_count": 71,
   "id": "c0fca5ee",
   "metadata": {},
   "outputs": [
    {
     "data": {
      "text/html": [
       "<div>\n",
       "<style scoped>\n",
       "    .dataframe tbody tr th:only-of-type {\n",
       "        vertical-align: middle;\n",
       "    }\n",
       "\n",
       "    .dataframe tbody tr th {\n",
       "        vertical-align: top;\n",
       "    }\n",
       "\n",
       "    .dataframe thead tr th {\n",
       "        text-align: left;\n",
       "    }\n",
       "\n",
       "    .dataframe thead tr:last-of-type th {\n",
       "        text-align: right;\n",
       "    }\n",
       "</style>\n",
       "<table border=\"1\" class=\"dataframe\">\n",
       "  <thead>\n",
       "    <tr>\n",
       "      <th></th>\n",
       "      <th>order_id</th>\n",
       "      <th colspan=\"3\" halign=\"left\">days_since_last_order</th>\n",
       "      <th colspan=\"3\" halign=\"left\">prices</th>\n",
       "    </tr>\n",
       "    <tr>\n",
       "      <th></th>\n",
       "      <th>count</th>\n",
       "      <th>min</th>\n",
       "      <th>mean</th>\n",
       "      <th>max</th>\n",
       "      <th>min</th>\n",
       "      <th>mean</th>\n",
       "      <th>max</th>\n",
       "    </tr>\n",
       "    <tr>\n",
       "      <th>Income Class</th>\n",
       "      <th></th>\n",
       "      <th></th>\n",
       "      <th></th>\n",
       "      <th></th>\n",
       "      <th></th>\n",
       "      <th></th>\n",
       "      <th></th>\n",
       "    </tr>\n",
       "  </thead>\n",
       "  <tbody>\n",
       "    <tr>\n",
       "      <th>Higher Class</th>\n",
       "      <td>7657354</td>\n",
       "      <td>0.0</td>\n",
       "      <td>11.026200</td>\n",
       "      <td>30.0</td>\n",
       "      <td>1.0</td>\n",
       "      <td>21.747114</td>\n",
       "      <td>99999.0</td>\n",
       "    </tr>\n",
       "    <tr>\n",
       "      <th>Lower Class</th>\n",
       "      <td>7657453</td>\n",
       "      <td>0.0</td>\n",
       "      <td>11.334471</td>\n",
       "      <td>30.0</td>\n",
       "      <td>1.0</td>\n",
       "      <td>7.293827</td>\n",
       "      <td>14900.0</td>\n",
       "    </tr>\n",
       "    <tr>\n",
       "      <th>Middle Class</th>\n",
       "      <td>15314934</td>\n",
       "      <td>0.0</td>\n",
       "      <td>11.041355</td>\n",
       "      <td>30.0</td>\n",
       "      <td>1.0</td>\n",
       "      <td>9.313175</td>\n",
       "      <td>99999.0</td>\n",
       "    </tr>\n",
       "  </tbody>\n",
       "</table>\n",
       "</div>"
      ],
      "text/plain": [
       "              order_id days_since_last_order                  prices  \\\n",
       "                 count                   min       mean   max    min   \n",
       "Income Class                                                           \n",
       "Higher Class   7657354                   0.0  11.026200  30.0    1.0   \n",
       "Lower Class    7657453                   0.0  11.334471  30.0    1.0   \n",
       "Middle Class  15314934                   0.0  11.041355  30.0    1.0   \n",
       "\n",
       "                                  \n",
       "                   mean      max  \n",
       "Income Class                      \n",
       "Higher Class  21.747114  99999.0  \n",
       "Lower Class    7.293827  14900.0  \n",
       "Middle Class   9.313175  99999.0  "
      ]
     },
     "execution_count": 71,
     "metadata": {},
     "output_type": "execute_result"
    }
   ],
   "source": [
    "#checking results\n",
    "\n",
    "crosstab_income"
   ]
  },
  {
   "cell_type": "code",
   "execution_count": 72,
   "id": "d101bea1",
   "metadata": {},
   "outputs": [],
   "source": [
    "#Departments (Produce)\n",
    "\n",
    "crosstab_customer = df_instacart_PII_clean.groupby('customer').agg({'order_id':['count'],'days_since_last_order':['min', 'mean', 'max'], 'prices':['min', 'mean', 'max']})"
   ]
  },
  {
   "cell_type": "code",
   "execution_count": 73,
   "id": "17a64117",
   "metadata": {},
   "outputs": [],
   "source": [
    "#Departments (Pets)\n",
    "\n",
    "crosstab_customer_1 = df_instacart_PII_clean.groupby('customer_1').agg({'order_id':['count'],'days_since_last_order':['min', 'mean', 'max'], 'prices':['min', 'mean', 'max']})"
   ]
  },
  {
   "cell_type": "code",
   "execution_count": 74,
   "id": "f4e6a25b",
   "metadata": {},
   "outputs": [
    {
     "data": {
      "text/html": [
       "<div>\n",
       "<style scoped>\n",
       "    .dataframe tbody tr th:only-of-type {\n",
       "        vertical-align: middle;\n",
       "    }\n",
       "\n",
       "    .dataframe tbody tr th {\n",
       "        vertical-align: top;\n",
       "    }\n",
       "\n",
       "    .dataframe thead tr th {\n",
       "        text-align: left;\n",
       "    }\n",
       "\n",
       "    .dataframe thead tr:last-of-type th {\n",
       "        text-align: right;\n",
       "    }\n",
       "</style>\n",
       "<table border=\"1\" class=\"dataframe\">\n",
       "  <thead>\n",
       "    <tr>\n",
       "      <th></th>\n",
       "      <th>order_id</th>\n",
       "      <th colspan=\"3\" halign=\"left\">days_since_last_order</th>\n",
       "      <th colspan=\"3\" halign=\"left\">prices</th>\n",
       "    </tr>\n",
       "    <tr>\n",
       "      <th></th>\n",
       "      <th>count</th>\n",
       "      <th>min</th>\n",
       "      <th>mean</th>\n",
       "      <th>max</th>\n",
       "      <th>min</th>\n",
       "      <th>mean</th>\n",
       "      <th>max</th>\n",
       "    </tr>\n",
       "    <tr>\n",
       "      <th>customer</th>\n",
       "      <th></th>\n",
       "      <th></th>\n",
       "      <th></th>\n",
       "      <th></th>\n",
       "      <th></th>\n",
       "      <th></th>\n",
       "      <th></th>\n",
       "    </tr>\n",
       "  </thead>\n",
       "  <tbody>\n",
       "    <tr>\n",
       "      <th>produce_buyer</th>\n",
       "      <td>30178572</td>\n",
       "      <td>0.0</td>\n",
       "      <td>11.058971</td>\n",
       "      <td>30.0</td>\n",
       "      <td>1.0</td>\n",
       "      <td>11.872580</td>\n",
       "      <td>99999.0</td>\n",
       "    </tr>\n",
       "    <tr>\n",
       "      <th>produce_non_buyer</th>\n",
       "      <td>451169</td>\n",
       "      <td>0.0</td>\n",
       "      <td>14.794280</td>\n",
       "      <td>30.0</td>\n",
       "      <td>1.0</td>\n",
       "      <td>14.873878</td>\n",
       "      <td>99999.0</td>\n",
       "    </tr>\n",
       "  </tbody>\n",
       "</table>\n",
       "</div>"
      ],
      "text/plain": [
       "                   order_id days_since_last_order                  prices  \\\n",
       "                      count                   min       mean   max    min   \n",
       "customer                                                                    \n",
       "produce_buyer      30178572                   0.0  11.058971  30.0    1.0   \n",
       "produce_non_buyer    451169                   0.0  14.794280  30.0    1.0   \n",
       "\n",
       "                                       \n",
       "                        mean      max  \n",
       "customer                               \n",
       "produce_buyer      11.872580  99999.0  \n",
       "produce_non_buyer  14.873878  99999.0  "
      ]
     },
     "execution_count": 74,
     "metadata": {},
     "output_type": "execute_result"
    }
   ],
   "source": [
    "#checking results\n",
    "\n",
    "crosstab_customer"
   ]
  },
  {
   "cell_type": "code",
   "execution_count": 75,
   "id": "725dbac6",
   "metadata": {},
   "outputs": [
    {
     "data": {
      "text/html": [
       "<div>\n",
       "<style scoped>\n",
       "    .dataframe tbody tr th:only-of-type {\n",
       "        vertical-align: middle;\n",
       "    }\n",
       "\n",
       "    .dataframe tbody tr th {\n",
       "        vertical-align: top;\n",
       "    }\n",
       "\n",
       "    .dataframe thead tr th {\n",
       "        text-align: left;\n",
       "    }\n",
       "\n",
       "    .dataframe thead tr:last-of-type th {\n",
       "        text-align: right;\n",
       "    }\n",
       "</style>\n",
       "<table border=\"1\" class=\"dataframe\">\n",
       "  <thead>\n",
       "    <tr>\n",
       "      <th></th>\n",
       "      <th>order_id</th>\n",
       "      <th colspan=\"3\" halign=\"left\">days_since_last_order</th>\n",
       "      <th colspan=\"3\" halign=\"left\">prices</th>\n",
       "    </tr>\n",
       "    <tr>\n",
       "      <th></th>\n",
       "      <th>count</th>\n",
       "      <th>min</th>\n",
       "      <th>mean</th>\n",
       "      <th>max</th>\n",
       "      <th>min</th>\n",
       "      <th>mean</th>\n",
       "      <th>max</th>\n",
       "    </tr>\n",
       "    <tr>\n",
       "      <th>customer_1</th>\n",
       "      <th></th>\n",
       "      <th></th>\n",
       "      <th></th>\n",
       "      <th></th>\n",
       "      <th></th>\n",
       "      <th></th>\n",
       "      <th></th>\n",
       "    </tr>\n",
       "  </thead>\n",
       "  <tbody>\n",
       "    <tr>\n",
       "      <th>pet_buyer</th>\n",
       "      <td>30182467</td>\n",
       "      <td>0.0</td>\n",
       "      <td>11.059499</td>\n",
       "      <td>30.0</td>\n",
       "      <td>1.0</td>\n",
       "      <td>11.872035</td>\n",
       "      <td>99999.0</td>\n",
       "    </tr>\n",
       "    <tr>\n",
       "      <th>pet_non_buyer</th>\n",
       "      <td>447274</td>\n",
       "      <td>0.0</td>\n",
       "      <td>14.788100</td>\n",
       "      <td>30.0</td>\n",
       "      <td>1.0</td>\n",
       "      <td>14.936835</td>\n",
       "      <td>99999.0</td>\n",
       "    </tr>\n",
       "  </tbody>\n",
       "</table>\n",
       "</div>"
      ],
      "text/plain": [
       "               order_id days_since_last_order                  prices  \\\n",
       "                  count                   min       mean   max    min   \n",
       "customer_1                                                              \n",
       "pet_buyer      30182467                   0.0  11.059499  30.0    1.0   \n",
       "pet_non_buyer    447274                   0.0  14.788100  30.0    1.0   \n",
       "\n",
       "                                   \n",
       "                    mean      max  \n",
       "customer_1                         \n",
       "pet_buyer      11.872035  99999.0  \n",
       "pet_non_buyer  14.936835  99999.0  "
      ]
     },
     "execution_count": 75,
     "metadata": {},
     "output_type": "execute_result"
    }
   ],
   "source": [
    "#checking results\n",
    "\n",
    "crosstab_customer_1"
   ]
  },
  {
   "cell_type": "code",
   "execution_count": 76,
   "id": "5dee0ee6",
   "metadata": {},
   "outputs": [],
   "source": [
    "#Dependants\n",
    "\n",
    "crosstab_dependants = df_instacart_PII_clean.groupby('Family Structure').agg({'order_id':['count'],'days_since_last_order':['min', 'mean', 'max'], 'prices':['min', 'mean', 'max']})"
   ]
  },
  {
   "cell_type": "code",
   "execution_count": 77,
   "id": "0a3d6aca",
   "metadata": {},
   "outputs": [
    {
     "data": {
      "text/html": [
       "<div>\n",
       "<style scoped>\n",
       "    .dataframe tbody tr th:only-of-type {\n",
       "        vertical-align: middle;\n",
       "    }\n",
       "\n",
       "    .dataframe tbody tr th {\n",
       "        vertical-align: top;\n",
       "    }\n",
       "\n",
       "    .dataframe thead tr th {\n",
       "        text-align: left;\n",
       "    }\n",
       "\n",
       "    .dataframe thead tr:last-of-type th {\n",
       "        text-align: right;\n",
       "    }\n",
       "</style>\n",
       "<table border=\"1\" class=\"dataframe\">\n",
       "  <thead>\n",
       "    <tr>\n",
       "      <th></th>\n",
       "      <th>order_id</th>\n",
       "      <th colspan=\"3\" halign=\"left\">days_since_last_order</th>\n",
       "      <th colspan=\"3\" halign=\"left\">prices</th>\n",
       "    </tr>\n",
       "    <tr>\n",
       "      <th></th>\n",
       "      <th>count</th>\n",
       "      <th>min</th>\n",
       "      <th>mean</th>\n",
       "      <th>max</th>\n",
       "      <th>min</th>\n",
       "      <th>mean</th>\n",
       "      <th>max</th>\n",
       "    </tr>\n",
       "    <tr>\n",
       "      <th>Family Structure</th>\n",
       "      <th></th>\n",
       "      <th></th>\n",
       "      <th></th>\n",
       "      <th></th>\n",
       "      <th></th>\n",
       "      <th></th>\n",
       "      <th></th>\n",
       "    </tr>\n",
       "  </thead>\n",
       "  <tbody>\n",
       "    <tr>\n",
       "      <th>Married with Dependants</th>\n",
       "      <td>14374522</td>\n",
       "      <td>0.0</td>\n",
       "      <td>11.122629</td>\n",
       "      <td>30.0</td>\n",
       "      <td>1.0</td>\n",
       "      <td>12.024109</td>\n",
       "      <td>99999.0</td>\n",
       "    </tr>\n",
       "    <tr>\n",
       "      <th>Married with No Dependants</th>\n",
       "      <td>7134689</td>\n",
       "      <td>0.0</td>\n",
       "      <td>11.126642</td>\n",
       "      <td>30.0</td>\n",
       "      <td>1.0</td>\n",
       "      <td>11.633986</td>\n",
       "      <td>99999.0</td>\n",
       "    </tr>\n",
       "    <tr>\n",
       "      <th>Single with Dependants</th>\n",
       "      <td>1470832</td>\n",
       "      <td>0.0</td>\n",
       "      <td>11.047268</td>\n",
       "      <td>30.0</td>\n",
       "      <td>1.0</td>\n",
       "      <td>10.958550</td>\n",
       "      <td>99999.0</td>\n",
       "    </tr>\n",
       "    <tr>\n",
       "      <th>Single with No Dependants</th>\n",
       "      <td>7649698</td>\n",
       "      <td>0.0</td>\n",
       "      <td>11.084925</td>\n",
       "      <td>30.0</td>\n",
       "      <td>1.0</td>\n",
       "      <td>12.163131</td>\n",
       "      <td>99999.0</td>\n",
       "    </tr>\n",
       "  </tbody>\n",
       "</table>\n",
       "</div>"
      ],
      "text/plain": [
       "                            order_id days_since_last_order                   \\\n",
       "                               count                   min       mean   max   \n",
       "Family Structure                                                              \n",
       "Married with Dependants     14374522                   0.0  11.122629  30.0   \n",
       "Married with No Dependants   7134689                   0.0  11.126642  30.0   \n",
       "Single with Dependants       1470832                   0.0  11.047268  30.0   \n",
       "Single with No Dependants    7649698                   0.0  11.084925  30.0   \n",
       "\n",
       "                           prices                      \n",
       "                              min       mean      max  \n",
       "Family Structure                                       \n",
       "Married with Dependants       1.0  12.024109  99999.0  \n",
       "Married with No Dependants    1.0  11.633986  99999.0  \n",
       "Single with Dependants        1.0  10.958550  99999.0  \n",
       "Single with No Dependants     1.0  12.163131  99999.0  "
      ]
     },
     "execution_count": 77,
     "metadata": {},
     "output_type": "execute_result"
    }
   ],
   "source": [
    "#checking results\n",
    "\n",
    "crosstab_dependants"
   ]
  },
  {
   "cell_type": "code",
   "execution_count": 78,
   "id": "e282e2b6",
   "metadata": {},
   "outputs": [],
   "source": [
    "#Region\n",
    "\n",
    "crosstab_Region = df_instacart_PII_clean.groupby('Region').agg({'order_id':['count'],'days_since_last_order':['min', 'mean', 'max'], 'prices':['min', 'mean', 'max']})"
   ]
  },
  {
   "cell_type": "code",
   "execution_count": 79,
   "id": "06309d6f",
   "metadata": {},
   "outputs": [
    {
     "data": {
      "text/html": [
       "<div>\n",
       "<style scoped>\n",
       "    .dataframe tbody tr th:only-of-type {\n",
       "        vertical-align: middle;\n",
       "    }\n",
       "\n",
       "    .dataframe tbody tr th {\n",
       "        vertical-align: top;\n",
       "    }\n",
       "\n",
       "    .dataframe thead tr th {\n",
       "        text-align: left;\n",
       "    }\n",
       "\n",
       "    .dataframe thead tr:last-of-type th {\n",
       "        text-align: right;\n",
       "    }\n",
       "</style>\n",
       "<table border=\"1\" class=\"dataframe\">\n",
       "  <thead>\n",
       "    <tr>\n",
       "      <th></th>\n",
       "      <th>order_id</th>\n",
       "      <th colspan=\"3\" halign=\"left\">days_since_last_order</th>\n",
       "      <th colspan=\"3\" halign=\"left\">prices</th>\n",
       "    </tr>\n",
       "    <tr>\n",
       "      <th></th>\n",
       "      <th>count</th>\n",
       "      <th>min</th>\n",
       "      <th>mean</th>\n",
       "      <th>max</th>\n",
       "      <th>min</th>\n",
       "      <th>mean</th>\n",
       "      <th>max</th>\n",
       "    </tr>\n",
       "    <tr>\n",
       "      <th>Region</th>\n",
       "      <th></th>\n",
       "      <th></th>\n",
       "      <th></th>\n",
       "      <th></th>\n",
       "      <th></th>\n",
       "      <th></th>\n",
       "      <th></th>\n",
       "    </tr>\n",
       "  </thead>\n",
       "  <tbody>\n",
       "    <tr>\n",
       "      <th>Midwest</th>\n",
       "      <td>7176924</td>\n",
       "      <td>0.0</td>\n",
       "      <td>11.188121</td>\n",
       "      <td>30.0</td>\n",
       "      <td>1.0</td>\n",
       "      <td>12.814354</td>\n",
       "      <td>99999.0</td>\n",
       "    </tr>\n",
       "    <tr>\n",
       "      <th>Northeast</th>\n",
       "      <td>5422025</td>\n",
       "      <td>0.0</td>\n",
       "      <td>11.074020</td>\n",
       "      <td>30.0</td>\n",
       "      <td>1.0</td>\n",
       "      <td>11.594699</td>\n",
       "      <td>99999.0</td>\n",
       "    </tr>\n",
       "    <tr>\n",
       "      <th>South</th>\n",
       "      <td>10198982</td>\n",
       "      <td>0.0</td>\n",
       "      <td>11.116169</td>\n",
       "      <td>30.0</td>\n",
       "      <td>1.0</td>\n",
       "      <td>12.043691</td>\n",
       "      <td>99999.0</td>\n",
       "    </tr>\n",
       "    <tr>\n",
       "      <th>West</th>\n",
       "      <td>7831810</td>\n",
       "      <td>0.0</td>\n",
       "      <td>11.057400</td>\n",
       "      <td>30.0</td>\n",
       "      <td>1.0</td>\n",
       "      <td>11.152004</td>\n",
       "      <td>99999.0</td>\n",
       "    </tr>\n",
       "  </tbody>\n",
       "</table>\n",
       "</div>"
      ],
      "text/plain": [
       "           order_id days_since_last_order                  prices             \\\n",
       "              count                   min       mean   max    min       mean   \n",
       "Region                                                                         \n",
       "Midwest     7176924                   0.0  11.188121  30.0    1.0  12.814354   \n",
       "Northeast   5422025                   0.0  11.074020  30.0    1.0  11.594699   \n",
       "South      10198982                   0.0  11.116169  30.0    1.0  12.043691   \n",
       "West        7831810                   0.0  11.057400  30.0    1.0  11.152004   \n",
       "\n",
       "                    \n",
       "               max  \n",
       "Region              \n",
       "Midwest    99999.0  \n",
       "Northeast  99999.0  \n",
       "South      99999.0  \n",
       "West       99999.0  "
      ]
     },
     "execution_count": 79,
     "metadata": {},
     "output_type": "execute_result"
    }
   ],
   "source": [
    "#checking results\n",
    "\n",
    "crosstab_Region"
   ]
  },
  {
   "cell_type": "code",
   "execution_count": 80,
   "id": "5e718f03",
   "metadata": {},
   "outputs": [],
   "source": [
    "#Activity Level\n",
    "\n",
    "crosstab_activity_level = df_instacart_PII_clean.groupby('activity_level').agg({'order_id':['count'],'days_since_last_order':['min', 'mean', 'max'], 'prices':['min', 'mean', 'max']})"
   ]
  },
  {
   "cell_type": "code",
   "execution_count": 81,
   "id": "29352de7",
   "metadata": {
    "scrolled": true
   },
   "outputs": [
    {
     "data": {
      "text/html": [
       "<div>\n",
       "<style scoped>\n",
       "    .dataframe tbody tr th:only-of-type {\n",
       "        vertical-align: middle;\n",
       "    }\n",
       "\n",
       "    .dataframe tbody tr th {\n",
       "        vertical-align: top;\n",
       "    }\n",
       "\n",
       "    .dataframe thead tr th {\n",
       "        text-align: left;\n",
       "    }\n",
       "\n",
       "    .dataframe thead tr:last-of-type th {\n",
       "        text-align: right;\n",
       "    }\n",
       "</style>\n",
       "<table border=\"1\" class=\"dataframe\">\n",
       "  <thead>\n",
       "    <tr>\n",
       "      <th></th>\n",
       "      <th>order_id</th>\n",
       "      <th colspan=\"3\" halign=\"left\">days_since_last_order</th>\n",
       "      <th colspan=\"3\" halign=\"left\">prices</th>\n",
       "    </tr>\n",
       "    <tr>\n",
       "      <th></th>\n",
       "      <th>count</th>\n",
       "      <th>min</th>\n",
       "      <th>mean</th>\n",
       "      <th>max</th>\n",
       "      <th>min</th>\n",
       "      <th>mean</th>\n",
       "      <th>max</th>\n",
       "    </tr>\n",
       "    <tr>\n",
       "      <th>activity_level</th>\n",
       "      <th></th>\n",
       "      <th></th>\n",
       "      <th></th>\n",
       "      <th></th>\n",
       "      <th></th>\n",
       "      <th></th>\n",
       "      <th></th>\n",
       "    </tr>\n",
       "  </thead>\n",
       "  <tbody>\n",
       "    <tr>\n",
       "      <th>Active</th>\n",
       "      <td>29270938</td>\n",
       "      <td>0.0</td>\n",
       "      <td>10.817463</td>\n",
       "      <td>30.0</td>\n",
       "      <td>1.0</td>\n",
       "      <td>11.868147</td>\n",
       "      <td>99999.0</td>\n",
       "    </tr>\n",
       "    <tr>\n",
       "      <th>Low Activity</th>\n",
       "      <td>1358803</td>\n",
       "      <td>0.0</td>\n",
       "      <td>19.500673</td>\n",
       "      <td>30.0</td>\n",
       "      <td>1.0</td>\n",
       "      <td>12.964619</td>\n",
       "      <td>99999.0</td>\n",
       "    </tr>\n",
       "  </tbody>\n",
       "</table>\n",
       "</div>"
      ],
      "text/plain": [
       "                order_id days_since_last_order                  prices  \\\n",
       "                   count                   min       mean   max    min   \n",
       "activity_level                                                           \n",
       "Active          29270938                   0.0  10.817463  30.0    1.0   \n",
       "Low Activity     1358803                   0.0  19.500673  30.0    1.0   \n",
       "\n",
       "                                    \n",
       "                     mean      max  \n",
       "activity_level                      \n",
       "Active          11.868147  99999.0  \n",
       "Low Activity    12.964619  99999.0  "
      ]
     },
     "execution_count": 81,
     "metadata": {},
     "output_type": "execute_result"
    }
   ],
   "source": [
    "#checking results\n",
    "\n",
    "crosstab_activity_level"
   ]
  },
  {
   "cell_type": "markdown",
   "id": "dc675612",
   "metadata": {},
   "source": [
    "Compare your customer profiles with regions and departments. Can you identify a link between them? Customers may demonstrate different behaviors across regions, which could make this information important."
   ]
  },
  {
   "cell_type": "code",
   "execution_count": 82,
   "id": "d7a40f5e",
   "metadata": {},
   "outputs": [],
   "source": [
    "#Checking relationship between Regions and Departments (Produce)\n",
    "\n",
    "Produce_Region = pd.crosstab(df_instacart_PII_clean['Region'], df_instacart_PII_clean['customer'], dropna = False)"
   ]
  },
  {
   "cell_type": "code",
   "execution_count": 83,
   "id": "d2316ae5",
   "metadata": {},
   "outputs": [],
   "source": [
    "#sorting values\n",
    "\n",
    "Produce_Region = Produce_Region.sort_values(by=['produce_buyer'], ascending = True)"
   ]
  },
  {
   "cell_type": "code",
   "execution_count": 84,
   "id": "9d90a34d",
   "metadata": {},
   "outputs": [
    {
     "data": {
      "text/plain": [
       "<matplotlib.legend.Legend at 0x1935b805e10>"
      ]
     },
     "execution_count": 84,
     "metadata": {},
     "output_type": "execute_result"
    },
    {
     "data": {
      "image/png": "[encoded data removed]",
      "text/plain": [
       "<Figure size 640x480 with 1 Axes>"
      ]
     },
     "metadata": {},
     "output_type": "display_data"
    }
   ],
   "source": [
    "#Create a visualization displaying results\n",
    "\n",
    "Produce_Region = Produce_Region.plot.barh()\n",
    "plt.title('Orders by Region and Department')\n",
    "plt.legend(loc= 'center left', bbox_to_anchor=(1.0, 0.5))"
   ]
  },
  {
   "cell_type": "code",
   "execution_count": 85,
   "id": "f4e24f39",
   "metadata": {},
   "outputs": [],
   "source": [
    "#Export\n",
    "\n",
    "Produce_Region.figure.savefig(os.path.join(path, '04 Analysis','Visualizations', 'Produce_Region_chart.png'),bbox_inches='tight')"
   ]
  },
  {
   "cell_type": "code",
   "execution_count": 86,
   "id": "10475c2d",
   "metadata": {},
   "outputs": [],
   "source": [
    "#Checking relationship between Regions and Departments (Pets)\n",
    "\n",
    "Pets_Region = pd.crosstab(df_instacart_PII_clean['Region'], df_instacart_PII_clean['customer_1'], dropna = False)"
   ]
  },
  {
   "cell_type": "code",
   "execution_count": 87,
   "id": "1942de19",
   "metadata": {},
   "outputs": [],
   "source": [
    "#sorting values\n",
    "\n",
    "Pets_Region = Pets_Region.sort_values(by=['pet_buyer'], ascending = True)"
   ]
  },
  {
   "cell_type": "code",
   "execution_count": 88,
   "id": "439cce13",
   "metadata": {},
   "outputs": [
    {
     "data": {
      "text/plain": [
       "<matplotlib.legend.Legend at 0x192bb903710>"
      ]
     },
     "execution_count": 88,
     "metadata": {},
     "output_type": "execute_result"
    },
    {
     "data": {
      "image/png": "[encoded data removed]",
      "text/plain": [
       "<Figure size 640x480 with 1 Axes>"
      ]
     },
     "metadata": {},
     "output_type": "display_data"
    }
   ],
   "source": [
    "#Create a visualization displaying results\n",
    "\n",
    "Pets_Region = Pets_Region.plot.barh()\n",
    "plt.title('Orders by Region and Department')\n",
    "plt.legend(loc= 'center left', bbox_to_anchor=(1.0, 0.5))"
   ]
  },
  {
   "cell_type": "code",
   "execution_count": 89,
   "id": "6417c553",
   "metadata": {},
   "outputs": [],
   "source": [
    "#Export\n",
    "\n",
    "Pets_Region.figure.savefig(os.path.join(path, '04 Analysis','Visualizations', 'Pets_Region_chart.png'),bbox_inches='tight')"
   ]
  },
  {
   "cell_type": "markdown",
   "id": "c1e7f28d",
   "metadata": {},
   "source": [
    "There does not seem to be a significant link regarding orders when comparing the Regions and Department profiles;"
   ]
  },
  {
   "cell_type": "code",
   "execution_count": 90,
   "id": "dd56bfcf",
   "metadata": {},
   "outputs": [],
   "source": [
    "#Checking relationship between Age Group and Family Structure\n",
    "\n",
    "Age_Family = pd.crosstab(df_instacart_PII_clean['Age Group'], df_instacart_PII_clean['Family Structure'], dropna = False)"
   ]
  },
  {
   "cell_type": "code",
   "execution_count": 91,
   "id": "ffd2378f",
   "metadata": {
    "scrolled": false
   },
   "outputs": [
    {
     "data": {
      "text/plain": [
       "<matplotlib.legend.Legend at 0x18ec17b2a10>"
      ]
     },
     "execution_count": 91,
     "metadata": {},
     "output_type": "execute_result"
    },
    {
     "data": {
      "image/png": "[encoded data removed]",
      "text/plain": [
       "<Figure size 640x480 with 1 Axes>"
      ]
     },
     "metadata": {},
     "output_type": "display_data"
    }
   ],
   "source": [
    "#Create a visualization displaying results\n",
    "\n",
    "Age_Family = Age_Family.plot.barh()\n",
    "plt.title('Orders by Age Group and Family Structure')\n",
    "plt.legend(loc= 'center left', bbox_to_anchor=(1.0, 0.5))"
   ]
  },
  {
   "cell_type": "code",
   "execution_count": 92,
   "id": "e4fba28d",
   "metadata": {},
   "outputs": [],
   "source": [
    "#Export\n",
    "\n",
    "Age_Family.figure.savefig(os.path.join(path, '04 Analysis','Visualizations', 'Age_Family_chart.png'),bbox_inches='tight')"
   ]
  },
  {
   "cell_type": "code",
   "execution_count": 93,
   "id": "0bb479db",
   "metadata": {},
   "outputs": [],
   "source": [
    "#Checking relationship between Age Group and Order Hour\n",
    "\n",
    "Age_Hour = pd.crosstab(df_instacart_PII_clean['order_hour_of_day'], df_instacart_PII_clean['Age Group'], dropna = False)"
   ]
  },
  {
   "cell_type": "code",
   "execution_count": 94,
   "id": "45a8bd6d",
   "metadata": {},
   "outputs": [
    {
     "data": {
      "text/plain": [
       "<matplotlib.legend.Legend at 0x18f9237f190>"
      ]
     },
     "execution_count": 94,
     "metadata": {},
     "output_type": "execute_result"
    },
    {
     "data": {
      "image/png": "[encoded data removed]",
      "text/plain": [
       "<Figure size 640x480 with 1 Axes>"
      ]
     },
     "metadata": {},
     "output_type": "display_data"
    }
   ],
   "source": [
    "#Create a visualization displaying results\n",
    "\n",
    "Age_Hour = Age_Hour.plot.bar()\n",
    "plt.title('Orders by Age Group and Order Hour')\n",
    "plt.legend(loc= 'center left', bbox_to_anchor=(1.0, 0.5))"
   ]
  },
  {
   "cell_type": "code",
   "execution_count": 95,
   "id": "f56a78a1",
   "metadata": {},
   "outputs": [],
   "source": [
    "#Export\n",
    "\n",
    "Age_Hour.figure.savefig(os.path.join(path, '04 Analysis','Visualizations', 'Age_Hour_chart.png'),bbox_inches='tight')"
   ]
  },
  {
   "cell_type": "code",
   "execution_count": 96,
   "id": "d7cbcb63",
   "metadata": {},
   "outputs": [],
   "source": [
    "#Checking relationship between Age Group and Order Hour\n",
    "\n",
    "Income_Hour = pd.crosstab(df_instacart_PII_clean['order_hour_of_day'], df_instacart_PII_clean['Income Class'], dropna = False)"
   ]
  },
  {
   "cell_type": "code",
   "execution_count": 97,
   "id": "0916fcbf",
   "metadata": {},
   "outputs": [
    {
     "data": {
      "text/plain": [
       "<matplotlib.legend.Legend at 0x192bb8f4190>"
      ]
     },
     "execution_count": 97,
     "metadata": {},
     "output_type": "execute_result"
    },
    {
     "data": {
      "image/png": "[encoded data removed]",
      "text/plain": [
       "<Figure size 640x480 with 1 Axes>"
      ]
     },
     "metadata": {},
     "output_type": "display_data"
    }
   ],
   "source": [
    "#Create a visualization displaying results\n",
    "\n",
    "Income_Hour = Income_Hour.plot.bar()\n",
    "plt.title('Orders by Income Class and Order Hour')\n",
    "plt.legend(loc= 'center left', bbox_to_anchor=(1.0, 0.5))"
   ]
  },
  {
   "cell_type": "code",
   "execution_count": 98,
   "id": "716c341a",
   "metadata": {},
   "outputs": [],
   "source": [
    "#Export\n",
    "\n",
    "Income_Hour.figure.savefig(os.path.join(path, '04 Analysis','Visualizations', 'Income_Hour_chart.png'),bbox_inches='tight')"
   ]
  },
  {
   "cell_type": "code",
   "execution_count": 99,
   "id": "5bf0737a",
   "metadata": {},
   "outputs": [
    {
     "data": {
      "text/plain": [
       "Text(0.5, 1.0, 'Orders by Price Range')"
      ]
     },
     "execution_count": 99,
     "metadata": {},
     "output_type": "execute_result"
    },
    {
     "data": {
      "image/png": "[encoded data removed]",
      "text/plain": [
       "<Figure size 640x480 with 1 Axes>"
      ]
     },
     "metadata": {},
     "output_type": "display_data"
    }
   ],
   "source": [
    "#Price Range Graph\n",
    "\n",
    "Price_Range = df_instacart_PII_clean['price_range_loc'].value_counts().sort_values().plot.bar()\n",
    "plt.title('Orders by Price Range')"
   ]
  },
  {
   "cell_type": "code",
   "execution_count": 100,
   "id": "f96ddd8f",
   "metadata": {},
   "outputs": [],
   "source": [
    "#Export\n",
    "\n",
    "Price_Range.figure.savefig(os.path.join(path, '04 Analysis','Visualizations', 'Price_Range_chart.png'),bbox_inches='tight')"
   ]
  },
  {
   "cell_type": "code",
   "execution_count": 101,
   "id": "37b37c23",
   "metadata": {},
   "outputs": [],
   "source": [
    "# Export to pickle file\n",
    "\n",
    "df_instacart_PII_clean.to_pickle(os.path.join(path, '02 Data', 'Prepared Data', 'Instacart_Final.pkl'))"
   ]
  }
 ],
 "metadata": {
  "kernelspec": {
   "display_name": "Python 3 (ipykernel)",
   "language": "python",
   "name": "python3"
  },
  "language_info": {
   "codemirror_mode": {
    "name": "ipython",
    "version": 3
   },
   "file_extension": ".py",
   "mimetype": "text/x-python",
   "name": "python",
   "nbconvert_exporter": "python",
   "pygments_lexer": "ipython3",
   "version": "3.11.3"
  }
 },
 "nbformat": 4,
 "nbformat_minor": 5
}
