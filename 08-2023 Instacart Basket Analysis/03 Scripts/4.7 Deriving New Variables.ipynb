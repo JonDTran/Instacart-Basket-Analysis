{
 "cells": [
  {
   "cell_type": "markdown",
   "id": "df891748",
   "metadata": {},
   "source": [
    "## TOC:\n",
    "\n",
    "*[01. Importing libraries]\n",
    "\n",
    "*[02. Importing data]\n",
    "\n",
    "*[03. Task]"
   ]
  },
  {
   "cell_type": "markdown",
   "id": "57b86b44",
   "metadata": {},
   "source": [
    "# 01. Importing libraries"
   ]
  },
  {
   "cell_type": "code",
   "execution_count": 1,
   "id": "b4d6f3b8",
   "metadata": {},
   "outputs": [],
   "source": [
    "import pandas as pd\n",
    "import numpy as np\n",
    "import os"
   ]
  },
  {
   "cell_type": "markdown",
   "id": "88c8c1fa",
   "metadata": {},
   "source": [
    "# 02. Importing datasets"
   ]
  },
  {
   "cell_type": "code",
   "execution_count": 2,
   "id": "fb3b18de",
   "metadata": {},
   "outputs": [],
   "source": [
    "#Defining path\n",
    "\n",
    "path = r'C:\\Users\\Jonathan\\08-2023 Instacart Basket Analysis'"
   ]
  },
  {
   "cell_type": "code",
   "execution_count": 3,
   "id": "f694566f",
   "metadata": {},
   "outputs": [],
   "source": [
    "#Importing datasets\n",
    "\n",
    "ords_prods_merged = pd.read_pickle(os.path.join(path, '02 Data', 'Prepared Data', 'orders_products_combined.pkl'))"
   ]
  },
  {
   "cell_type": "code",
   "execution_count": 5,
   "id": "83d95fa4",
   "metadata": {},
   "outputs": [],
   "source": [
    "#Create a new subset\n",
    "\n",
    "df = ords_prods_merged[:1000000]"
   ]
  },
  {
   "cell_type": "code",
   "execution_count": 6,
   "id": "229520fa",
   "metadata": {},
   "outputs": [],
   "source": [
    "#defining the function\n",
    "\n",
    "def price_label(row):\n",
    "\n",
    "  if row['prices'] <= 5:\n",
    "    return 'Low-range product'\n",
    "  elif (row['prices'] > 5) and (row['prices'] <= 15):\n",
    "    return 'Mid-range product'\n",
    "  elif row['prices'] > 15:\n",
    "    return 'High range'\n",
    "  else: return 'Not enough data'"
   ]
  },
  {
   "cell_type": "code",
   "execution_count": 7,
   "id": "0598abd8",
   "metadata": {},
   "outputs": [
    {
     "name": "stderr",
     "output_type": "stream",
     "text": [
      "C:\\Users\\Jonathan\\AppData\\Local\\Temp\\ipykernel_34232\\2067299264.py:1: SettingWithCopyWarning: \n",
      "A value is trying to be set on a copy of a slice from a DataFrame.\n",
      "Try using .loc[row_indexer,col_indexer] = value instead\n",
      "\n",
      "See the caveats in the documentation: https://pandas.pydata.org/pandas-docs/stable/user_guide/indexing.html#returning-a-view-versus-a-copy\n",
      "  df['price_range'] = df.apply(price_label, axis =1)\n"
     ]
    }
   ],
   "source": [
    "#Apply the function\n",
    "\n",
    "df['price_range'] = df.apply(price_label, axis =1)"
   ]
  },
  {
   "cell_type": "code",
   "execution_count": 8,
   "id": "9dcd9cbb",
   "metadata": {},
   "outputs": [
    {
     "data": {
      "text/plain": [
       "Mid-range product    756450\n",
       "Low-range product    243550\n",
       "Name: price_range, dtype: int64"
      ]
     },
     "execution_count": 8,
     "metadata": {},
     "output_type": "execute_result"
    }
   ],
   "source": [
    "#Check values\n",
    "\n",
    "df['price_range'].value_counts(dropna = False)"
   ]
  },
  {
   "cell_type": "code",
   "execution_count": 9,
   "id": "aad390a3",
   "metadata": {},
   "outputs": [
    {
     "data": {
      "text/plain": [
       "14.8"
      ]
     },
     "execution_count": 9,
     "metadata": {},
     "output_type": "execute_result"
    }
   ],
   "source": [
    "#Check max value of price\n",
    "\n",
    "df['prices'].max()"
   ]
  },
  {
   "cell_type": "code",
   "execution_count": 11,
   "id": "0697d3d6",
   "metadata": {},
   "outputs": [],
   "source": [
    "#defining high-range product using loc\n",
    "\n",
    "ords_prods_merged.loc[ords_prods_merged['prices'] > 15, 'price_range_loc'] = 'High-range product'"
   ]
  },
  {
   "cell_type": "code",
   "execution_count": 12,
   "id": "86a82b6a",
   "metadata": {},
   "outputs": [],
   "source": [
    "#defining mid-range product using loc\n",
    "\n",
    "ords_prods_merged.loc[(ords_prods_merged['prices'] <= 15) & (ords_prods_merged['prices'] > 5), 'price_range_loc'] = 'Mid-range product'"
   ]
  },
  {
   "cell_type": "code",
   "execution_count": 13,
   "id": "eac172d0",
   "metadata": {},
   "outputs": [],
   "source": [
    "#defining low-range product using loc\n",
    "\n",
    "ords_prods_merged.loc[ords_prods_merged['prices'] <= 5, 'price_range_loc'] = 'Low-range product'"
   ]
  },
  {
   "cell_type": "code",
   "execution_count": 15,
   "id": "827f479c",
   "metadata": {},
   "outputs": [
    {
     "data": {
      "text/plain": [
       "Mid-range product     21860860\n",
       "Low-range product     10126321\n",
       "High-range product      417678\n",
       "Name: price_range_loc, dtype: int64"
      ]
     },
     "execution_count": 15,
     "metadata": {},
     "output_type": "execute_result"
    }
   ],
   "source": [
    "#value counts using loc\n",
    "\n",
    "ords_prods_merged['price_range_loc'].value_counts(dropna = False)"
   ]
  },
  {
   "cell_type": "code",
   "execution_count": 20,
   "id": "00e8cc56",
   "metadata": {},
   "outputs": [
    {
     "data": {
      "text/plain": [
       "0    6204182\n",
       "1    5660230\n",
       "6    4496490\n",
       "2    4213830\n",
       "5    4205791\n",
       "3    3840534\n",
       "4    3783802\n",
       "Name: order_day_of_week, dtype: int64"
      ]
     },
     "execution_count": 20,
     "metadata": {},
     "output_type": "execute_result"
    }
   ],
   "source": [
    "#values for order_day_of_the_week\n",
    "\n",
    "ords_prods_merged['order_day_of_week'].value_counts(dropna = False)"
   ]
  },
  {
   "cell_type": "code",
   "execution_count": 21,
   "id": "dedb4339",
   "metadata": {},
   "outputs": [],
   "source": [
    "#Defining loop for busiest day\n",
    "\n",
    "result = []\n",
    "\n",
    "for value in ords_prods_merged[\"order_day_of_week\"]:\n",
    "    if value == 0:\n",
    "        result.append(\"Busiest day\")\n",
    "    elif value == 4:\n",
    "        result.append(\"Least busy\")\n",
    "    else:\n",
    "        result.append(\"Regular busy\")"
   ]
  },
  {
   "cell_type": "code",
   "execution_count": 22,
   "id": "2d9ee864",
   "metadata": {},
   "outputs": [],
   "source": [
    "#creating 'busiest day' column\n",
    "\n",
    "ords_prods_merged['busiest day'] = result"
   ]
  },
  {
   "cell_type": "code",
   "execution_count": 23,
   "id": "1a2dc4d9",
   "metadata": {},
   "outputs": [
    {
     "data": {
      "text/plain": [
       "Regular busy    22416875\n",
       "Busiest day      6204182\n",
       "Least busy       3783802\n",
       "Name: busiest day, dtype: int64"
      ]
     },
     "execution_count": 23,
     "metadata": {},
     "output_type": "execute_result"
    }
   ],
   "source": [
    "ords_prods_merged['busiest day'].value_counts(dropna = False)"
   ]
  },
  {
   "cell_type": "code",
   "execution_count": 24,
   "id": "a29921db",
   "metadata": {},
   "outputs": [
    {
     "data": {
      "text/html": [
       "<div>\n",
       "<style scoped>\n",
       "    .dataframe tbody tr th:only-of-type {\n",
       "        vertical-align: middle;\n",
       "    }\n",
       "\n",
       "    .dataframe tbody tr th {\n",
       "        vertical-align: top;\n",
       "    }\n",
       "\n",
       "    .dataframe thead th {\n",
       "        text-align: right;\n",
       "    }\n",
       "</style>\n",
       "<table border=\"1\" class=\"dataframe\">\n",
       "  <thead>\n",
       "    <tr style=\"text-align: right;\">\n",
       "      <th></th>\n",
       "      <th>order_id</th>\n",
       "      <th>user_id</th>\n",
       "      <th>order_number</th>\n",
       "      <th>order_day_of_week</th>\n",
       "      <th>order_hour_of_day</th>\n",
       "      <th>days_since_last_order</th>\n",
       "      <th>product_id</th>\n",
       "      <th>add_to_cart_order</th>\n",
       "      <th>reordered</th>\n",
       "      <th>product_name</th>\n",
       "      <th>aisle_id</th>\n",
       "      <th>department_id</th>\n",
       "      <th>prices</th>\n",
       "      <th>price_range_loc</th>\n",
       "      <th>busiest day</th>\n",
       "    </tr>\n",
       "  </thead>\n",
       "  <tbody>\n",
       "    <tr>\n",
       "      <th>0</th>\n",
       "      <td>2539329</td>\n",
       "      <td>1</td>\n",
       "      <td>1</td>\n",
       "      <td>2</td>\n",
       "      <td>8</td>\n",
       "      <td>NaN</td>\n",
       "      <td>196</td>\n",
       "      <td>1</td>\n",
       "      <td>0</td>\n",
       "      <td>Soda</td>\n",
       "      <td>77</td>\n",
       "      <td>7</td>\n",
       "      <td>9.0</td>\n",
       "      <td>Mid-range product</td>\n",
       "      <td>Regular busy</td>\n",
       "    </tr>\n",
       "    <tr>\n",
       "      <th>1</th>\n",
       "      <td>2398795</td>\n",
       "      <td>1</td>\n",
       "      <td>2</td>\n",
       "      <td>3</td>\n",
       "      <td>7</td>\n",
       "      <td>15.0</td>\n",
       "      <td>196</td>\n",
       "      <td>1</td>\n",
       "      <td>1</td>\n",
       "      <td>Soda</td>\n",
       "      <td>77</td>\n",
       "      <td>7</td>\n",
       "      <td>9.0</td>\n",
       "      <td>Mid-range product</td>\n",
       "      <td>Regular busy</td>\n",
       "    </tr>\n",
       "    <tr>\n",
       "      <th>2</th>\n",
       "      <td>473747</td>\n",
       "      <td>1</td>\n",
       "      <td>3</td>\n",
       "      <td>3</td>\n",
       "      <td>12</td>\n",
       "      <td>21.0</td>\n",
       "      <td>196</td>\n",
       "      <td>1</td>\n",
       "      <td>1</td>\n",
       "      <td>Soda</td>\n",
       "      <td>77</td>\n",
       "      <td>7</td>\n",
       "      <td>9.0</td>\n",
       "      <td>Mid-range product</td>\n",
       "      <td>Regular busy</td>\n",
       "    </tr>\n",
       "    <tr>\n",
       "      <th>3</th>\n",
       "      <td>2254736</td>\n",
       "      <td>1</td>\n",
       "      <td>4</td>\n",
       "      <td>4</td>\n",
       "      <td>7</td>\n",
       "      <td>29.0</td>\n",
       "      <td>196</td>\n",
       "      <td>1</td>\n",
       "      <td>1</td>\n",
       "      <td>Soda</td>\n",
       "      <td>77</td>\n",
       "      <td>7</td>\n",
       "      <td>9.0</td>\n",
       "      <td>Mid-range product</td>\n",
       "      <td>Least busy</td>\n",
       "    </tr>\n",
       "    <tr>\n",
       "      <th>4</th>\n",
       "      <td>431534</td>\n",
       "      <td>1</td>\n",
       "      <td>5</td>\n",
       "      <td>4</td>\n",
       "      <td>15</td>\n",
       "      <td>28.0</td>\n",
       "      <td>196</td>\n",
       "      <td>1</td>\n",
       "      <td>1</td>\n",
       "      <td>Soda</td>\n",
       "      <td>77</td>\n",
       "      <td>7</td>\n",
       "      <td>9.0</td>\n",
       "      <td>Mid-range product</td>\n",
       "      <td>Least busy</td>\n",
       "    </tr>\n",
       "  </tbody>\n",
       "</table>\n",
       "</div>"
      ],
      "text/plain": [
       "   order_id  user_id  order_number  order_day_of_week  order_hour_of_day  \\\n",
       "0   2539329        1             1                  2                  8   \n",
       "1   2398795        1             2                  3                  7   \n",
       "2    473747        1             3                  3                 12   \n",
       "3   2254736        1             4                  4                  7   \n",
       "4    431534        1             5                  4                 15   \n",
       "\n",
       "   days_since_last_order  product_id  add_to_cart_order  reordered  \\\n",
       "0                    NaN         196                  1          0   \n",
       "1                   15.0         196                  1          1   \n",
       "2                   21.0         196                  1          1   \n",
       "3                   29.0         196                  1          1   \n",
       "4                   28.0         196                  1          1   \n",
       "\n",
       "  product_name  aisle_id  department_id  prices    price_range_loc  \\\n",
       "0         Soda        77              7     9.0  Mid-range product   \n",
       "1         Soda        77              7     9.0  Mid-range product   \n",
       "2         Soda        77              7     9.0  Mid-range product   \n",
       "3         Soda        77              7     9.0  Mid-range product   \n",
       "4         Soda        77              7     9.0  Mid-range product   \n",
       "\n",
       "    busiest day  \n",
       "0  Regular busy  \n",
       "1  Regular busy  \n",
       "2  Regular busy  \n",
       "3    Least busy  \n",
       "4    Least busy  "
      ]
     },
     "execution_count": 24,
     "metadata": {},
     "output_type": "execute_result"
    }
   ],
   "source": [
    "ords_prods_merged.head(5)"
   ]
  },
  {
   "cell_type": "markdown",
   "id": "301ac1ba",
   "metadata": {},
   "source": [
    "# 03. Task"
   ]
  },
  {
   "cell_type": "code",
   "execution_count": 49,
   "id": "f568bd87",
   "metadata": {},
   "outputs": [],
   "source": [
    "# 02. Create a new column for this using a suitable method\n",
    "\n",
    "result_2 = []\n",
    "\n",
    "for value in ords_prods_merged[\"order_day_of_week\"]:\n",
    "    if value == 0 or value == 1:\n",
    "        result_2.append(\"Busiest days\")\n",
    "    elif value == 4 or value == 3:\n",
    "        result_2.append(\"Least busy days\")\n",
    "    else:\n",
    "        result_2.append(\"Regular busy\")"
   ]
  },
  {
   "cell_type": "code",
   "execution_count": 50,
   "id": "8a943fb5",
   "metadata": {},
   "outputs": [],
   "source": [
    "ords_prods_merged['busiest days'] = result_2"
   ]
  },
  {
   "cell_type": "code",
   "execution_count": 51,
   "id": "e49e01cc",
   "metadata": {},
   "outputs": [
    {
     "data": {
      "text/plain": [
       "Regular busy       12916111\n",
       "Busiest days       11864412\n",
       "Least busy days     7624336\n",
       "Name: busiest days, dtype: int64"
      ]
     },
     "execution_count": 51,
     "metadata": {},
     "output_type": "execute_result"
    }
   ],
   "source": [
    "# 03. Check the values of this new column for accuracy\n",
    "\n",
    "ords_prods_merged['busiest days'].value_counts(dropna = False)"
   ]
  },
  {
   "cell_type": "markdown",
   "id": "2296a288",
   "metadata": {},
   "source": [
    "There are almost as many orders on the 2 busy days as the 3 regular busy days;"
   ]
  },
  {
   "cell_type": "code",
   "execution_count": 52,
   "id": "bcef9953",
   "metadata": {},
   "outputs": [
    {
     "data": {
      "text/plain": [
       "10    2761760\n",
       "11    2736140\n",
       "14    2689136\n",
       "15    2662144\n",
       "13    2660954\n",
       "12    2618532\n",
       "16    2535202\n",
       "9     2454203\n",
       "17    2087654\n",
       "8     1718118\n",
       "18    1636502\n",
       "19    1258305\n",
       "20     976156\n",
       "7      891054\n",
       "21     795637\n",
       "22     634225\n",
       "23     402316\n",
       "6      290493\n",
       "0      218769\n",
       "1      115700\n",
       "5       87961\n",
       "2       69375\n",
       "4       53242\n",
       "3       51281\n",
       "Name: order_hour_of_day, dtype: int64"
      ]
     },
     "execution_count": 52,
     "metadata": {},
     "output_type": "execute_result"
    }
   ],
   "source": [
    "# 04. Create a new column containing these labels called \"busiest_period_of_day\"\n",
    "\n",
    "ords_prods_merged['order_hour_of_day'].value_counts(dropna = False)"
   ]
  },
  {
   "cell_type": "code",
   "execution_count": 57,
   "id": "cc3fa9ec",
   "metadata": {},
   "outputs": [],
   "source": [
    "#For-Loop If statement for Most orders, Fewest orders, and Average orders\n",
    "\n",
    "result_3 = []\n",
    "\n",
    "for value in ords_prods_merged[\"order_hour_of_day\"]:\n",
    "    if value in [10, 11, 14, 15, 13, 12, 16, 9]:\n",
    "        result_3.append(\"Most orders\")\n",
    "    elif value in [23, 6, 0, 1, 5, 2, 4, 3]:\n",
    "        result_3.append(\"Fewest orders\")\n",
    "    else:\n",
    "        result_3.append(\"Average orders\")"
   ]
  },
  {
   "cell_type": "code",
   "execution_count": 58,
   "id": "db2dd371",
   "metadata": {},
   "outputs": [],
   "source": [
    "#creating new column for 'busiest_period_of_day'\n",
    "\n",
    "ords_prods_merged['busiest_period_of_day'] = result_3"
   ]
  },
  {
   "cell_type": "code",
   "execution_count": 60,
   "id": "0b1cbd10",
   "metadata": {},
   "outputs": [
    {
     "data": {
      "text/plain": [
       "Most orders       21118071\n",
       "Average orders     9997651\n",
       "Fewest orders      1289137\n",
       "Name: busiest_period_of_day, dtype: int64"
      ]
     },
     "execution_count": 60,
     "metadata": {},
     "output_type": "execute_result"
    }
   ],
   "source": [
    "#frequency for 'busiest_period_of_day'\n",
    "\n",
    "ords_prods_merged['busiest_period_of_day'].value_counts(dropna = False)"
   ]
  },
  {
   "cell_type": "code",
   "execution_count": 65,
   "id": "ec6e7d40",
   "metadata": {},
   "outputs": [],
   "source": [
    "#exporting dataframe\n",
    "\n",
    "ords_prods_merged.to_pickle(os.path.join(path, '02 Data','Prepared Data', 'orders_products_busiest.pkl'))"
   ]
  },
  {
   "cell_type": "code",
   "execution_count": null,
   "id": "7496c65d",
   "metadata": {},
   "outputs": [],
   "source": []
  }
 ],
 "metadata": {
  "kernelspec": {
   "display_name": "Python 3 (ipykernel)",
   "language": "python",
   "name": "python3"
  },
  "language_info": {
   "codemirror_mode": {
    "name": "ipython",
    "version": 3
   },
   "file_extension": ".py",
   "mimetype": "text/x-python",
   "name": "python",
   "nbconvert_exporter": "python",
   "pygments_lexer": "ipython3",
   "version": "3.11.3"
  }
 },
 "nbformat": 4,
 "nbformat_minor": 5
}
