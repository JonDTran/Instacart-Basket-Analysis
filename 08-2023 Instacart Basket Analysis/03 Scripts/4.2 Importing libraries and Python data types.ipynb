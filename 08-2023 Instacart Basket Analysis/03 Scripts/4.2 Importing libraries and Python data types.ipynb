{
 "cells": [
  {
   "cell_type": "markdown",
   "id": "8f61cde6",
   "metadata": {},
   "source": [
    "## TOC:\n",
    "\n",
    "*[01. Importing libraries]\n",
    "\n",
    "*[02. Working with Python data types]"
   ]
  },
  {
   "cell_type": "markdown",
   "id": "3c801913",
   "metadata": {},
   "source": [
    "# 01. Importing libaries"
   ]
  },
  {
   "cell_type": "code",
   "execution_count": 1,
   "id": "b3b87597",
   "metadata": {},
   "outputs": [],
   "source": [
    "# Import libraries\n",
    "import pandas as pd\n",
    "import numpy as np\n",
    "import os"
   ]
  },
  {
   "cell_type": "markdown",
   "id": "9e57395a",
   "metadata": {},
   "source": [
    "# 02. Working with Python data types"
   ]
  },
  {
   "cell_type": "code",
   "execution_count": 8,
   "id": "88a0455c",
   "metadata": {},
   "outputs": [],
   "source": [
    "x = 25\n",
    "y = 75\n",
    "z = 50"
   ]
  },
  {
   "cell_type": "code",
   "execution_count": 13,
   "id": "b525927d",
   "metadata": {},
   "outputs": [
    {
     "data": {
      "text/plain": [
       "100"
      ]
     },
     "execution_count": 13,
     "metadata": {},
     "output_type": "execute_result"
    }
   ],
   "source": [
    "x + x + x + x"
   ]
  },
  {
   "cell_type": "code",
   "execution_count": 12,
   "id": "92d29d03",
   "metadata": {},
   "outputs": [
    {
     "data": {
      "text/plain": [
       "100"
      ]
     },
     "execution_count": 12,
     "metadata": {},
     "output_type": "execute_result"
    }
   ],
   "source": [
    "y + x"
   ]
  },
  {
   "cell_type": "code",
   "execution_count": 11,
   "id": "79074b01",
   "metadata": {},
   "outputs": [
    {
     "data": {
      "text/plain": [
       "100"
      ]
     },
     "execution_count": 11,
     "metadata": {},
     "output_type": "execute_result"
    }
   ],
   "source": [
    "z + z"
   ]
  },
  {
   "cell_type": "code",
   "execution_count": 14,
   "id": "379aa90f",
   "metadata": {},
   "outputs": [],
   "source": [
    "a = 2.56\n",
    "b = 3.2257"
   ]
  },
  {
   "cell_type": "code",
   "execution_count": 15,
   "id": "437d0014",
   "metadata": {},
   "outputs": [
    {
     "data": {
      "text/plain": [
       "1.2600390625"
      ]
     },
     "execution_count": 15,
     "metadata": {},
     "output_type": "execute_result"
    }
   ],
   "source": [
    "b/a"
   ]
  },
  {
   "cell_type": "code",
   "execution_count": 19,
   "id": "d5f2cdde",
   "metadata": {},
   "outputs": [],
   "source": [
    "f = 'fa'\n",
    "g = 'ce'"
   ]
  },
  {
   "cell_type": "code",
   "execution_count": 20,
   "id": "47141e0c",
   "metadata": {},
   "outputs": [
    {
     "data": {
      "text/plain": [
       "'face'"
      ]
     },
     "execution_count": 20,
     "metadata": {},
     "output_type": "execute_result"
    }
   ],
   "source": [
    "f + g"
   ]
  },
  {
   "cell_type": "code",
   "execution_count": 16,
   "id": "54b363e8",
   "metadata": {},
   "outputs": [],
   "source": [
    "c = 'Hello, '\n",
    "d = 'My name is Jon.'\n",
    "e = 'How was you day?'"
   ]
  },
  {
   "cell_type": "code",
   "execution_count": 17,
   "id": "fa9acd73",
   "metadata": {},
   "outputs": [
    {
     "data": {
      "text/plain": [
       "'Hello, My name is Jon.'"
      ]
     },
     "execution_count": 17,
     "metadata": {},
     "output_type": "execute_result"
    }
   ],
   "source": [
    "c + d"
   ]
  },
  {
   "cell_type": "code",
   "execution_count": 18,
   "id": "c14607db",
   "metadata": {},
   "outputs": [
    {
     "data": {
      "text/plain": [
       "'Hello, How was you day?'"
      ]
     },
     "execution_count": 18,
     "metadata": {},
     "output_type": "execute_result"
    }
   ],
   "source": [
    "c + e"
   ]
  }
 ],
 "metadata": {
  "kernelspec": {
   "display_name": "Python 3 (ipykernel)",
   "language": "python",
   "name": "python3"
  },
  "language_info": {
   "codemirror_mode": {
    "name": "ipython",
    "version": 3
   },
   "file_extension": ".py",
   "mimetype": "text/x-python",
   "name": "python",
   "nbconvert_exporter": "python",
   "pygments_lexer": "ipython3",
   "version": "3.11.3"
  }
 },
 "nbformat": 4,
 "nbformat_minor": 5
}
